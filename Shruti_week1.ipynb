{
 "cells": [
  {
   "cell_type": "code",
   "execution_count": 1,
   "metadata": {},
   "outputs": [
    {
     "ename": "FileNotFoundError",
     "evalue": "[Errno 2] No such file or directory: 'mpg.csv'",
     "output_type": "error",
     "traceback": [
      "\u001b[0;31m---------------------------------------------------------------------------\u001b[0m",
      "\u001b[0;31mFileNotFoundError\u001b[0m                         Traceback (most recent call last)",
      "\u001b[0;32m<ipython-input-1-6a92b6b6c408>\u001b[0m in \u001b[0;36m<module>\u001b[0;34m\u001b[0m\n\u001b[1;32m      3\u001b[0m \u001b[0mget_ipython\u001b[0m\u001b[0;34m(\u001b[0m\u001b[0;34m)\u001b[0m\u001b[0;34m.\u001b[0m\u001b[0mrun_line_magic\u001b[0m\u001b[0;34m(\u001b[0m\u001b[0;34m'precision'\u001b[0m\u001b[0;34m,\u001b[0m \u001b[0;34m'2'\u001b[0m\u001b[0;34m)\u001b[0m\u001b[0;34m\u001b[0m\u001b[0;34m\u001b[0m\u001b[0m\n\u001b[1;32m      4\u001b[0m \u001b[0;34m\u001b[0m\u001b[0m\n\u001b[0;32m----> 5\u001b[0;31m \u001b[0;32mwith\u001b[0m \u001b[0mopen\u001b[0m\u001b[0;34m(\u001b[0m\u001b[0;34m'mpg.csv'\u001b[0m\u001b[0;34m)\u001b[0m \u001b[0;32mas\u001b[0m \u001b[0mcsvfile\u001b[0m\u001b[0;34m:\u001b[0m\u001b[0;34m\u001b[0m\u001b[0;34m\u001b[0m\u001b[0m\n\u001b[0m\u001b[1;32m      6\u001b[0m     \u001b[0mmpg\u001b[0m \u001b[0;34m=\u001b[0m \u001b[0mlist\u001b[0m\u001b[0;34m(\u001b[0m\u001b[0mcsv\u001b[0m\u001b[0;34m.\u001b[0m\u001b[0mDictReader\u001b[0m\u001b[0;34m(\u001b[0m\u001b[0mcsvfile\u001b[0m\u001b[0;34m)\u001b[0m\u001b[0;34m)\u001b[0m\u001b[0;34m\u001b[0m\u001b[0;34m\u001b[0m\u001b[0m\n\u001b[1;32m      7\u001b[0m \u001b[0;34m\u001b[0m\u001b[0m\n",
      "\u001b[0;31mFileNotFoundError\u001b[0m: [Errno 2] No such file or directory: 'mpg.csv'"
     ]
    }
   ],
   "source": [
    "import csv\n",
    "\n",
    "%precision 2\n",
    "\n",
    "with open('mpg.csv') as csvfile:\n",
    "    mpg = list(csv.DictReader(csvfile))\n",
    "    \n",
    "mpg[:3] "
   ]
  },
  {
   "cell_type": "code",
   "execution_count": 2,
   "metadata": {},
   "outputs": [
    {
     "data": {
      "text/plain": [
       "[OrderedDict([('street', '3526 HIGH ST'),\n",
       "              ('city', 'SACRAMENTO'),\n",
       "              ('zip', '95838'),\n",
       "              ('state', 'CA'),\n",
       "              ('beds', '2'),\n",
       "              ('baths', '1'),\n",
       "              ('sq__ft', '836'),\n",
       "              ('type', 'Residential'),\n",
       "              ('sale_date', 'Wed May 21 00:00:00 EDT 2008'),\n",
       "              ('price', '59222'),\n",
       "              ('latitude', '38.631913'),\n",
       "              ('longitude', '-121.434879')]),\n",
       " OrderedDict([('street', '51 OMAHA CT'),\n",
       "              ('city', 'SACRAMENTO'),\n",
       "              ('zip', '95823'),\n",
       "              ('state', 'CA'),\n",
       "              ('beds', '3'),\n",
       "              ('baths', '1'),\n",
       "              ('sq__ft', '1167'),\n",
       "              ('type', 'Residential'),\n",
       "              ('sale_date', 'Wed May 21 00:00:00 EDT 2008'),\n",
       "              ('price', '68212'),\n",
       "              ('latitude', '38.478902'),\n",
       "              ('longitude', '-121.431028')]),\n",
       " OrderedDict([('street', '2796 BRANCH ST'),\n",
       "              ('city', 'SACRAMENTO'),\n",
       "              ('zip', '95815'),\n",
       "              ('state', 'CA'),\n",
       "              ('beds', '2'),\n",
       "              ('baths', '1'),\n",
       "              ('sq__ft', '796'),\n",
       "              ('type', 'Residential'),\n",
       "              ('sale_date', 'Wed May 21 00:00:00 EDT 2008'),\n",
       "              ('price', '68880'),\n",
       "              ('latitude', '38.618305'),\n",
       "              ('longitude', '-121.443839')])]"
      ]
     },
     "execution_count": 2,
     "metadata": {},
     "output_type": "execute_result"
    }
   ],
   "source": [
    "import csv\n",
    "\n",
    "%precision 2\n",
    "\n",
    "with open('mpg.csv') as csvfile:\n",
    "    mpg = list(csv.DictReader(csvfile))\n",
    "    \n",
    "mpg[:3] "
   ]
  },
  {
   "cell_type": "code",
   "execution_count": 3,
   "metadata": {},
   "outputs": [
    {
     "data": {
      "text/plain": [
       "985"
      ]
     },
     "execution_count": 3,
     "metadata": {},
     "output_type": "execute_result"
    }
   ],
   "source": [
    "len(mpg)"
   ]
  },
  {
   "cell_type": "code",
   "execution_count": 4,
   "metadata": {},
   "outputs": [
    {
     "data": {
      "text/plain": [
       "odict_keys(['street', 'city', 'zip', 'state', 'beds', 'baths', 'sq__ft', 'type', 'sale_date', 'price', 'latitude', 'longitude'])"
      ]
     },
     "execution_count": 4,
     "metadata": {},
     "output_type": "execute_result"
    }
   ],
   "source": [
    "mpg[0].keys()ea"
   ]
  },
  {
   "cell_type": "code",
   "execution_count": 16,
   "metadata": {},
   "outputs": [
    {
     "name": "stdout",
     "output_type": "stream",
     "text": [
      "2.9116751269035532\n"
     ]
    }
   ],
   "source": [
    "s = 0;\n",
    "for d in mpg:\n",
    "       s = s + float(d['beds'])\n",
    "        \n",
    "print(s/len(mpg))        \n"
   ]
  },
  {
   "cell_type": "markdown",
   "metadata": {},
   "source": []
  },
  {
   "cell_type": "code",
   "execution_count": 8,
   "metadata": {},
   "outputs": [
    {
     "data": {
      "text/plain": [
       "2.91"
      ]
     },
     "execution_count": 8,
     "metadata": {},
     "output_type": "execute_result"
    }
   ],
   "source": [
    "sum(float(d['beds']) for d in mpg)/len(mpg)"
   ]
  },
  {
   "cell_type": "code",
   "execution_count": 10,
   "metadata": {},
   "outputs": [
    {
     "data": {
      "text/plain": [
       "[OrderedDict([('street', '51 OMAHA CT'),\n",
       "              ('city', 'SACRAMENTO'),\n",
       "              ('zip', '95823'),\n",
       "              ('state', 'CA'),\n",
       "              ('beds', '3'),\n",
       "              ('baths', '1'),\n",
       "              ('sq__ft', '1167'),\n",
       "              ('type', 'Residential'),\n",
       "              ('sale_date', 'Wed May 21 00:00:00 EDT 2008'),\n",
       "              ('price', '68212'),\n",
       "              ('latitude', '38.478902'),\n",
       "              ('longitude', '-121.431028')]),\n",
       " OrderedDict([('street', '2796 BRANCH ST'),\n",
       "              ('city', 'SACRAMENTO'),\n",
       "              ('zip', '95815'),\n",
       "              ('state', 'CA'),\n",
       "              ('beds', '2'),\n",
       "              ('baths', '1'),\n",
       "              ('sq__ft', '796'),\n",
       "              ('type', 'Residential'),\n",
       "              ('sale_date', 'Wed May 21 00:00:00 EDT 2008'),\n",
       "              ('price', '68880'),\n",
       "              ('latitude', '38.618305'),\n",
       "              ('longitude', '-121.443839')]),\n",
       " OrderedDict([('street', '2805 JANETTE WAY'),\n",
       "              ('city', 'SACRAMENTO'),\n",
       "              ('zip', '95815'),\n",
       "              ('state', 'CA'),\n",
       "              ('beds', '2'),\n",
       "              ('baths', '1'),\n",
       "              ('sq__ft', '852'),\n",
       "              ('type', 'Residential'),\n",
       "              ('sale_date', 'Wed May 21 00:00:00 EDT 2008'),\n",
       "              ('price', '69307'),\n",
       "              ('latitude', '38.616835'),\n",
       "              ('longitude', '-121.439146')])]"
      ]
     },
     "execution_count": 10,
     "metadata": {},
     "output_type": "execute_result"
    }
   ],
   "source": [
    "import csv\n",
    "\n",
    "%precision 2\n",
    "with open ('mpg.csv') as csvfile:\n",
    "     mpg=list(csv.DictReader(csvfile))\n",
    "        \n",
    "mpg[1:4]"
   ]
  },
  {
   "cell_type": "code",
   "execution_count": 12,
   "metadata": {},
   "outputs": [
    {
     "ename": "NameError",
     "evalue": "name 'street' is not defined",
     "output_type": "error",
     "traceback": [
      "\u001b[0;31m---------------------------------------------------------------------------\u001b[0m",
      "\u001b[0;31mNameError\u001b[0m                                 Traceback (most recent call last)",
      "\u001b[0;32m<ipython-input-12-ea2513e4d60e>\u001b[0m in \u001b[0;36m<module>\u001b[0;34m\u001b[0m\n\u001b[1;32m      1\u001b[0m \u001b[0mCtyMpgByCyl\u001b[0m \u001b[0;34m=\u001b[0m \u001b[0;34m[\u001b[0m\u001b[0;34m]\u001b[0m\u001b[0;34m\u001b[0m\u001b[0;34m\u001b[0m\u001b[0m\n\u001b[1;32m      2\u001b[0m \u001b[0;34m\u001b[0m\u001b[0m\n\u001b[0;32m----> 3\u001b[0;31m \u001b[0;32mfor\u001b[0m \u001b[0mc\u001b[0m \u001b[0;32min\u001b[0m \u001b[0mstreet\u001b[0m\u001b[0;34m:\u001b[0m \u001b[0;31m# iterate over all the cylinder levels\u001b[0m\u001b[0;34m\u001b[0m\u001b[0;34m\u001b[0m\u001b[0m\n\u001b[0m\u001b[1;32m      4\u001b[0m     \u001b[0msummpg\u001b[0m \u001b[0;34m=\u001b[0m \u001b[0;36m0\u001b[0m\u001b[0;34m\u001b[0m\u001b[0;34m\u001b[0m\u001b[0m\n\u001b[1;32m      5\u001b[0m     \u001b[0mcyltypecount\u001b[0m \u001b[0;34m=\u001b[0m \u001b[0;36m0\u001b[0m\u001b[0;34m\u001b[0m\u001b[0;34m\u001b[0m\u001b[0m\n",
      "\u001b[0;31mNameError\u001b[0m: name 'street' is not defined"
     ]
    }
   ],
   "source": [
    "CtyMpgByCyl = []\n",
    "\n",
    "for c in street: # iterate over all the cylinder levels\n",
    "    summpg = 0\n",
    "    cyltypecount = 0\n",
    "    for d in mpg: # iterate over all dictionaries\n",
    "        if d['street'] == c: # if the cylinder level type matches,\n",
    "            summpg += float(d['city']) # add the cty mpg\n",
    "            cyltypecount += 1 # increment the count\n",
    "    CtyMpgByCyl.append((c, summpg / cyltypecount)) # append the tuple ('cylinder', 'avg mpg')\n",
    "\n",
    "CtyMpgByCyl.sort(key=lambda x: x[0])\n",
    "CtyMpgByCyl"
   ]
  },
  {
   "cell_type": "code",
   "execution_count": 13,
   "metadata": {},
   "outputs": [
    {
     "data": {
      "text/plain": [
       "{'1 KENNELFORD CIR',\n",
       " '10 SEA FOAM CT',\n",
       " '100 CHELSEA CT',\n",
       " '100 CRYSTALWOOD CIR',\n",
       " '100 CRYSTALWOOD WAY',\n",
       " '100 REBECCA WAY',\n",
       " '100 TOURMALINE CIR',\n",
       " '10001 WOODCREEK OAKS BLVD Unit 1415',\n",
       " '10001 WOODCREEK OAKS BLVD Unit 815',\n",
       " '1001 RIO NORTE WAY',\n",
       " '1005 MORENO WAY',\n",
       " '10062 LINCOLN VILLAGE DR',\n",
       " '10085 ATKINS DR',\n",
       " '10104 ANNIE ST',\n",
       " '10105 MONTE VALLO CT',\n",
       " '10112 LAMBEAU CT',\n",
       " '10133 NEBBIOLO CT',\n",
       " '10158 CRAWFORD WAY',\n",
       " '1016 CONGRESS AVE',\n",
       " '10165 LOFTON WAY',\n",
       " '10245 LOS PALOS DR',\n",
       " '10254 JULIANA WAY',\n",
       " '1028 FALLON PLACE CT',\n",
       " '1032 SOUZA DR',\n",
       " '1033 PARK STREAM DR',\n",
       " '1035 MILLET WAY',\n",
       " '10372 VIA CINTA CT',\n",
       " '104 CATLIN CT',\n",
       " '1042 STARBROOK DR',\n",
       " '1044 GALSTON DR',\n",
       " '1050 FOXHALL WAY',\n",
       " '10542 SILVERWOOD WAY',\n",
       " '106 FARHAM DR',\n",
       " '10629 BASIE WAY',\n",
       " '1069 ACACIA AVE',\n",
       " '107 JARVIS CIR',\n",
       " '108 CRYSTALWOOD WAY',\n",
       " '1080 RIO NORTE WAY',\n",
       " '1092 MAUGHAM CT',\n",
       " '10949 SCOTSMAN WAY',\n",
       " '11 E ST',\n",
       " '110 COPPER LEAF WAY',\n",
       " '1102 CHESLEY LN',\n",
       " '1103 COMMONS DR',\n",
       " '1104 HILLSDALE LN',\n",
       " '1106 55TH ST',\n",
       " '1110 PINEDALE AVE',\n",
       " '1113 COMMONS DR',\n",
       " '1113 SANDWICK WAY',\n",
       " '11130 EEL RIVER CT',\n",
       " '11150 TRINITY RIVER DR Unit 114',\n",
       " '1121 CREEKSIDE WAY',\n",
       " '11215 SHARRMONT CT',\n",
       " '1122 WILD POPPY CT',\n",
       " '1124 PERKINS WAY',\n",
       " '11281 STANFORD COURT LN Unit 604',\n",
       " '113 LEEWILL AVE',\n",
       " '113 RINETTI WAY',\n",
       " '1139 CLINTON RD',\n",
       " '1140 EDMONTON DR',\n",
       " '1158 SAN IGNACIO WAY',\n",
       " '116 CRYSTALWOOD WAY',\n",
       " '1165 37TH ST',\n",
       " '117 EVCAR WAY',\n",
       " '1171 SONOMA AVE',\n",
       " '1178 WARMWOOD CT',\n",
       " '11817 OPAL RIDGE WAY',\n",
       " '11826 DIONYSUS WAY',\n",
       " '119 SAINT MARIE CIR',\n",
       " '12 COSTA BRASE CT',\n",
       " '120 GRANT LN',\n",
       " '1207 CRESCENDO DR',\n",
       " '12075 APPLESBURY CT',\n",
       " '1214 DAWNWOOD DR',\n",
       " '1219 G ST',\n",
       " '12209 CONSERVANCY WAY',\n",
       " '1223 LAMBERTON CIR',\n",
       " '12241 CANYONLANDS DR',\n",
       " '1230 SANDRA CIR',\n",
       " '1240 FAY CIR',\n",
       " '1251 GREEN RAVINE DR',\n",
       " '127 QUASAR CIR',\n",
       " '12901 FURLONG DR',\n",
       " '1300 F ST',\n",
       " '1312 RENISON LN',\n",
       " '1315 KONDOS AVE',\n",
       " '1316 I ST',\n",
       " '1322 SUTTER WALK',\n",
       " '1336 LAYSAN TEAL DR',\n",
       " '1347 HIDALGO CIR',\n",
       " '1356 HARTLEY WAY',\n",
       " '137 GUNNISON AVE',\n",
       " '14 ASHLEY OAKS CT',\n",
       " '14 CASA VATONI PL',\n",
       " '140 VENTO CT',\n",
       " '14004 WALNUT AVE',\n",
       " '1401 STERLING ST',\n",
       " '1407 TIFFANY CIR',\n",
       " '1409 47TH ST',\n",
       " '14151 INDIO DR',\n",
       " '1416 LOCKHART WAY',\n",
       " '1434 BELL AVE',\n",
       " '1440 EMERALD LN',\n",
       " '1455 64TH AVE',\n",
       " '1456 EAGLESFIELD LN',\n",
       " '1469 JANRICK AVE',\n",
       " '14788 NATCHEZ CT',\n",
       " '1484 RADCLIFFE WAY',\n",
       " '149 OPUS CIR',\n",
       " '15 CRYSTALWOOD CIR',\n",
       " '15 LOORZ CT',\n",
       " '15 VANESSA PL',\n",
       " '1500 ORANGE HILL LN',\n",
       " '1515 EL CAMINO VERDE DR',\n",
       " '1524 YOUNGS AVE',\n",
       " '1525 PENNSYLVANIA AVE',\n",
       " '1528 HESKET WAY',\n",
       " '1530 TOPANGA LN Unit 204',\n",
       " '15300 MURIETA SOUTH PKWY',\n",
       " '1536 STONEY CROSS LN',\n",
       " '1550 TOPANGA LN Unit 207',\n",
       " '1570 GLIDDEN AVE',\n",
       " '1571 WILD OAK LN',\n",
       " '16 BRONCO CREEK CT',\n",
       " '1620 BASLER ST',\n",
       " '1630 GLIDDEN AVE',\n",
       " '1636 ALLENWOOD CIR',\n",
       " '167 VALLEY OAK DR',\n",
       " '1675 VERNON ST Unit 24',\n",
       " '1675 VERNON ST Unit 8',\n",
       " '169 BAURER CIR',\n",
       " '1691 NOGALES ST',\n",
       " '1693 SHELTER COVE DR',\n",
       " '17 SERASPI CT',\n",
       " '170 LAGOMARSINO WAY',\n",
       " '170 PENHOW CIR',\n",
       " '1732 TUSCAN GROVE CIR',\n",
       " '1740 HIGH ST',\n",
       " '1786 PIEDMONT WAY',\n",
       " '1792 DAWNELLE WAY',\n",
       " '1792 DIAMOND WOODS CIR',\n",
       " '18 OLLIE CT',\n",
       " '1800 AVONDALE DR',\n",
       " '1813 AVENIDA MARTINA',\n",
       " '1828 2ND AVE',\n",
       " '1833 2ND AVE',\n",
       " '1838 CASTRO WAY',\n",
       " '1889 COLD SPRINGS RD',\n",
       " '1890 GENEVA PL',\n",
       " '19 CRYSTALWOOD CIR',\n",
       " '19 E ST',\n",
       " '1900 DANBROOK DR',\n",
       " '1909 YARNELL WAY',\n",
       " '191 BARNHART CIR',\n",
       " '1910 BONAVISTA WAY',\n",
       " '1941 EXPEDITION WAY',\n",
       " '1965 LAURELHURST LN',\n",
       " '1973 DANVERS WAY',\n",
       " '1975 SIDESADDLE WAY',\n",
       " '1986 DANVERS WAY',\n",
       " '20 CRYSTALWOOD CIR',\n",
       " '20 GROTH CIR',\n",
       " '200 ALLAIRE CIR',\n",
       " '200 CRADLE MOUNTAIN CT',\n",
       " '200 HILLSFORD CT',\n",
       " '200 OAKWILDE ST',\n",
       " '201 CARLO CT',\n",
       " '201 FIRESTONE DR',\n",
       " '201 KIRKLAND CT',\n",
       " '2010 PROMONTORY POINT LN',\n",
       " '2015 PROMONTORY POINT LN',\n",
       " '2028 ROBERT WAY',\n",
       " '203 CASCADE FALLS DR',\n",
       " '2049 EMPIRE MINE CIR',\n",
       " '2064 EXPEDITION WAY',\n",
       " '2065 IMPRESSIONIST WAY',\n",
       " '207 ORANGE BLOSSOM CIR Unit C',\n",
       " '2089 BECKETT DR',\n",
       " '2100 BEATTY WAY',\n",
       " '2103 BURBERRY WAY',\n",
       " '2109 HAMLET PL',\n",
       " '211 MCDANIEL CIR',\n",
       " '2113 FALL TRAIL CT',\n",
       " '2113 KIRK WAY',\n",
       " '2115 SMOKESTACK WAY',\n",
       " '212 CAPPUCINO WAY',\n",
       " '2121 HANNAH WAY',\n",
       " '2123 AMANDA WAY',\n",
       " '2125 22ND AVE',\n",
       " '2125 BIG SKY DR',\n",
       " '2130 CATHERWOOD WAY',\n",
       " '2148 RANCH VIEW DR',\n",
       " '2149 COTTAGE WAY',\n",
       " '2159 BECKETT DR',\n",
       " '2178 63RD AVE',\n",
       " '2181 WINTERHAVEN CIR',\n",
       " '220 OLD AIRPORT RD',\n",
       " '221 PICASSO CIR',\n",
       " '2216 DUNLAP DR',\n",
       " '2217 APPALOOSA CT',\n",
       " '2219 EL CANTO CIR',\n",
       " '2221 2ND AVE',\n",
       " '2231 COUNTRY VILLA CT',\n",
       " '2242 ABLE WAY',\n",
       " '2250 FOREBAY RD',\n",
       " '2251 LAMPLIGHT LN',\n",
       " '227 MAHAN CT Unit 1',\n",
       " '2274 IVY BRIDGE DR',\n",
       " '2277 BABETTE WAY',\n",
       " '2284 LOS ROBLES RD',\n",
       " '2298 PRIMROSE LN',\n",
       " '23 CRYSTALWOOD CIR',\n",
       " '230 BANKSIDE WAY',\n",
       " '230 CANDELA CIR',\n",
       " '2319 THORES ST',\n",
       " '2327 32ND ST',\n",
       " '2328 DOROTHY JUNE WAY',\n",
       " '2332 CAMBRIDGE ST',\n",
       " '2340 HURLEY WAY',\n",
       " '2341 BIG STRIKE TRL',\n",
       " '2361 LA LOMA DR',\n",
       " '2368 CRAIG AVE',\n",
       " '2370 BIG CANYON CREEK RD',\n",
       " '24 CRYSTALWOOD CIR',\n",
       " '24 WINDCHIME CT',\n",
       " '2400 COUNTRYSIDE DR',\n",
       " '2400 INVERNESS DR',\n",
       " '241 LANFRANCO CIR',\n",
       " '2421 BERRYWOOD DR',\n",
       " '2421 SANTINA WAY',\n",
       " '2422 STEFANIE DR',\n",
       " '2426 RASHAWN DR',\n",
       " '2442 LARKSPUR LN',\n",
       " '2450 SAN JOSE WAY',\n",
       " '2460 EL ROCCO WAY',\n",
       " '250 PERALTA AVE',\n",
       " '2505 RHINE WAY',\n",
       " '251 CHANGO CIR',\n",
       " '2513 OLD KENMARE RD',\n",
       " '2561 19TH AVE',\n",
       " '2561 VERNA WAY',\n",
       " '2566 SERENATA WAY',\n",
       " '26 JEANROSS CT',\n",
       " '26 KAMSON CT',\n",
       " '2601 SAN FERNANDO WAY',\n",
       " '261 REDONDO AVE',\n",
       " '2610 PHYLLIS AVE',\n",
       " '2617 BASS CT',\n",
       " '2621 EVERGREEN ST',\n",
       " '2622 ERIN DR',\n",
       " '2636 TRONERO WAY',\n",
       " '2674 TAM O SHANTER DR',\n",
       " '2678 BRIARTON DR',\n",
       " '27 CRYSTALWOOD CIR',\n",
       " '27 E ST',\n",
       " '27 MEGAN CT',\n",
       " '2733 DANA LOOP',\n",
       " '2733 YUMA CT',\n",
       " '2743 DEAKIN PL',\n",
       " '2778 KAWEAH CT',\n",
       " '2796 BRANCH ST',\n",
       " '28 CRYSTALWOOD CIR',\n",
       " '2802 BLACK OAK DR',\n",
       " '2805 JANETTE WAY',\n",
       " '2809 LOON CT',\n",
       " '281 SPYGLASS HL',\n",
       " '2818 KNOLLWOOD DR',\n",
       " '2820 DEL PASO BLVD',\n",
       " '2847 BELGRADE WAY',\n",
       " '2848 PROVO WAY',\n",
       " '2866 KARITSA AVE',\n",
       " '2880 CANDIDO DR',\n",
       " '2887 AZEVEDO DR',\n",
       " '29 COOL FOUNTAIN CT',\n",
       " '2900 BLAIR RD',\n",
       " '2901 PINTAIL WAY',\n",
       " '2909 SHAWN WAY',\n",
       " '2912 NORCADE CIR',\n",
       " '2915 HOLDREGE WAY',\n",
       " '2916 BABSON DR',\n",
       " '2930 LA ROSA RD',\n",
       " '2931 HOWE AVE',\n",
       " '294 SPARROW DR',\n",
       " '2945 RED HAWK WAY',\n",
       " '2949 PANAMA AVE',\n",
       " '2956 DAVENPORT WAY',\n",
       " '2981 WRINGER DR',\n",
       " '2982 ABERDEEN LN',\n",
       " '2987 DIORITE WAY',\n",
       " '2987 PONDEROSA LN',\n",
       " '3 CRYSTALWOOD CIR',\n",
       " '3 E ST',\n",
       " '301 OLIVADI WAY',\n",
       " '3012 SPOONWOOD WAY',\n",
       " '3013 BRIDLEWOOD DR',\n",
       " '3020 RICHARDSON CIR',\n",
       " '3025 EL PRADO WAY',\n",
       " '3027 PALMATE WAY',\n",
       " '3035 BRUNNET LN',\n",
       " '3035 ESTEPA DR Unit 5C',\n",
       " '3040 PARKHAM DR',\n",
       " '306 CAMELLIA WAY',\n",
       " '3072 VILLAGE PLAZA DR',\n",
       " '308 ATKINSON ST',\n",
       " '31 CRYSTALWOOD CIR',\n",
       " '310 GROTH CIR',\n",
       " '3100 EXPLORER DR',\n",
       " '3104 CLAY ST',\n",
       " '3108 DELWOOD WAY',\n",
       " '3118 42ND ST',\n",
       " '312 RIVER ISLE WAY',\n",
       " '3128 VIA GRANDE',\n",
       " '3132 CLAY ST',\n",
       " '3139 SPOONWOOD WAY Unit 1',\n",
       " '315 JUMEL CT',\n",
       " '3150 ROSEMONT DR',\n",
       " '3174 NORTHVIEW DR',\n",
       " '318 ANACAPA DR',\n",
       " '32 CRYSTALWOOD CIR',\n",
       " '320 GROTH CIR',\n",
       " '3212 CORNICHE LN',\n",
       " '3224 PARKHAM DR',\n",
       " '3228 BAGGAN CT',\n",
       " '3228 I ST',\n",
       " '3230 SMATHERS WAY',\n",
       " '3232 PARKHAM DR',\n",
       " '3240 S ST',\n",
       " '3253 ABOTO WAY',\n",
       " '3301 PARK DR Unit 1914',\n",
       " '3305 RIO ROCA CT',\n",
       " '3318 DAVIDSON DR',\n",
       " '332 PALIN AVE',\n",
       " '3328 22ND AVE',\n",
       " '3330 VILLAGE CT',\n",
       " '3348 40TH ST',\n",
       " '3348 RIO LINDA BLVD',\n",
       " '3349 CORVINA DR',\n",
       " '3361 ALDER CANYON WAY',\n",
       " '3361 BOW MAR CT',\n",
       " '3372 BERETANIA WAY',\n",
       " '3409 VIRGO ST',\n",
       " '3425 MEADOW WAY',\n",
       " '3427 LA CADENA WAY',\n",
       " '3429 FERNBROOK CT',\n",
       " '3432 Y ST',\n",
       " '3450 WHITNOR CT',\n",
       " '35 CRYSTALWOOD CIR',\n",
       " '35 E ST',\n",
       " '3503 21ST AVE',\n",
       " '3512 RAINSONG CIR',\n",
       " '3522 22ND AVE',\n",
       " '3526 HIGH ST',\n",
       " '3528 SAINT GEORGE DR',\n",
       " '3529 FABERGE WAY',\n",
       " '3536 SUN MAIDEN WAY',\n",
       " '3557 SODA WAY',\n",
       " '3569 SODA WAY',\n",
       " '3578 LOGGERHEAD WAY',\n",
       " '36 CRYSTALWOOD CIR',\n",
       " '3604 KODIAK WAY',\n",
       " '361 MAHONIA CIR',\n",
       " '3621 WINTUN DR',\n",
       " '3622 CURTIS DR',\n",
       " '3624 20TH AVE',\n",
       " '3660 22ND AVE',\n",
       " '3662 RIVER DR',\n",
       " '3692 PAYNE WAY',\n",
       " '37 WHITE BIRCH CT',\n",
       " '3715 DIDCOT CIR',\n",
       " '3715 TALLYHO DR Unit 78HIGH',\n",
       " '3720 VISTA DE MADERA',\n",
       " '3725 DON JULIO BLVD',\n",
       " '3726 JONKO AVE',\n",
       " '3729 BAINBRIDGE DR',\n",
       " '3732 LANKERSHIM WAY',\n",
       " '374 1ST ST',\n",
       " '3800 LYNHURST WAY',\n",
       " '3801 WILDROSE WAY',\n",
       " '3812 BELDEN ST',\n",
       " '3812 CYPRESS ST',\n",
       " '3820 NATOMA WAY',\n",
       " '3828 BLACKFOOT WAY',\n",
       " '3845 ELM ST',\n",
       " '3847 LAS PASAS WAY',\n",
       " '386 1ST ST',\n",
       " '3863 LAS PASAS WAY',\n",
       " '3882 YELLOWSTONE LN',\n",
       " '39 CRYSTALWOOD CIR',\n",
       " '3908 17TH AVE',\n",
       " '391 NATALINO CIR',\n",
       " '3920 39TH ST',\n",
       " '3920 SHINING STAR DR',\n",
       " '3924 HIGH ST',\n",
       " '3930 ANNABELLE AVE',\n",
       " '3935 EL MONTE DR',\n",
       " '3935 LIMESTONE WAY',\n",
       " '3949 WILDROSE WAY',\n",
       " '3975 SHINING STAR DR',\n",
       " '398 1ST ST',\n",
       " '398 LINDLEY DR',\n",
       " '40 CRYSTALWOOD CIR',\n",
       " '4004 CRESTA WAY',\n",
       " '4008 GREY LIVERY WAY',\n",
       " '4010 ALEX LN',\n",
       " '4030 BROADWAY',\n",
       " '404 6TH ST',\n",
       " '405 MARLIN SPIKE WAY',\n",
       " '4055 DEERBROOK DR',\n",
       " '4070 REDONDO DR',\n",
       " '4071 EVALITA WAY',\n",
       " '4073 TRESLER AVE',\n",
       " '408 KIRKWOOD CT',\n",
       " '4085 COUNTRY DR',\n",
       " '4085 FAWN CIR',\n",
       " '4100 BOTHWELL CIR',\n",
       " '4108 NORTON WAY',\n",
       " '411 ILLSLEY WAY',\n",
       " '4113 DAYSTAR CT',\n",
       " '4114 35TH AVE',\n",
       " '4128 HILL ST',\n",
       " '4143 SEA MEADOW WAY',\n",
       " '416 LEITCH AVE',\n",
       " '4165 BRISBANE CIR',\n",
       " '4180 12TH AVE',\n",
       " '4186 TULIP PARK WAY',\n",
       " '419 DAWNRIDGE RD',\n",
       " '4200 COMMERCE WAY Unit 711',\n",
       " '4204 LUSK DR',\n",
       " '4207 PAINTER WAY',\n",
       " '4225 46TH AVE',\n",
       " '4232 71ST ST',\n",
       " '4236 ADRIATIC SEA WAY',\n",
       " '4236 NATOMAS CENTRAL DR',\n",
       " '4240 WINJE DR',\n",
       " '4243 MIDDLEBURY WAY',\n",
       " '4250 ARDWELL WAY',\n",
       " '427 21ST ST',\n",
       " '4288 DYMIC WAY',\n",
       " '4290 BLACKFORD WAY',\n",
       " '43 CRYSTALWOOD CIR',\n",
       " '43 E ST',\n",
       " '4320 FOUR SEASONS RD',\n",
       " '434 1ST ST',\n",
       " '435 EXCHANGE ST',\n",
       " '4351 TURNBRIDGE DR',\n",
       " '4359 CREGAN CT',\n",
       " '44 CRYSTALWOOD CIR',\n",
       " '441 ARLINGDALE CIR',\n",
       " '4419 79TH ST',\n",
       " '4431 GREEN TREE DR',\n",
       " '4437 MITCHUM CT',\n",
       " '4440 SYCAMORE AVE',\n",
       " '4478 GREENBRAE RD',\n",
       " '448 ELMWOOD CT',\n",
       " '4480 VALLEY HI DR',\n",
       " '4487 PANORAMA DR',\n",
       " '4500 TIPPWOOD WAY',\n",
       " '4508 OLD DAIRY DR',\n",
       " '4509 WINJE DR',\n",
       " '4513 GREENHOLME DR',\n",
       " '4517 OLYMPIAD WAY',\n",
       " '4520 BOMARK WAY',\n",
       " '4524 LOCH HAVEN WAY',\n",
       " '4533 LOCH HAVEN WAY',\n",
       " '4620 BROMWICH CT',\n",
       " '4620 CHAMBERLIN CIR',\n",
       " '4620 WELERA WAY',\n",
       " '4621 COUNTRY SCENE WAY',\n",
       " '4622 MEYER WAY',\n",
       " '4629 DORCHESTER LN',\n",
       " '4631 11TH AVE',\n",
       " '4636 TEAL BAY CT',\n",
       " '4649 FREEWAY CIR',\n",
       " '4660 CEDARWOOD WAY',\n",
       " '47 CRYSTALWOOD CIR',\n",
       " '47 NAPONEE CT',\n",
       " '4709 AMBER LN Unit 1',\n",
       " '4712 PISMO BEACH DR',\n",
       " '4727 SAVOIE WAY',\n",
       " '4734 14TH AVE',\n",
       " '4734 GIBBONS DR',\n",
       " '4738 OAKHOLLOW DR',\n",
       " '4741 PACIFIC PARK DR',\n",
       " '4748 SALEM WAY',\n",
       " '48 CRYSTALWOOD CIR',\n",
       " '4800 MAPLEPLAIN AVE',\n",
       " '4800 WESTLAKE PKWY Unit 2109',\n",
       " '4800 WESTLAKE PKWY Unit 410',\n",
       " '4803 MCCLOUD DR',\n",
       " '4804 NORIKER DR',\n",
       " '4818 BRITTNEY LEE CT',\n",
       " '4821 HUTSON WAY',\n",
       " '483 ARCADE BLVD',\n",
       " '4841 VILLAGE GREEN DR',\n",
       " '4844 CLYDEBANK WAY',\n",
       " '4854 TANGERINE AVE',\n",
       " '4867 LAGUNA DR',\n",
       " '4882 BANDALIN WAY',\n",
       " '4885 SUMMIT VIEW DR',\n",
       " '4899 WIND CREEK DR',\n",
       " '4900 71ST ST',\n",
       " '4900 ELUDE CT',\n",
       " '4901 MILLNER WAY',\n",
       " '4904 J PKWY',\n",
       " '4909 RUGER CT',\n",
       " '4925 PERCHERON DR',\n",
       " '4966 CHARTER RD',\n",
       " '5 BISHOPGATE CT',\n",
       " '500 WINCHESTER CT',\n",
       " '501 POPLAR AVE',\n",
       " '5024 CHAMBERLIN CIR',\n",
       " '5028 14TH AVE',\n",
       " '5031 CORVAIR ST',\n",
       " '5037 J PKWY',\n",
       " '5050 RHODE ISLAND DR Unit 4',\n",
       " '506 BEDFORD CT',\n",
       " '508 SAMUEL WAY',\n",
       " '509 CASTILLIAN CT',\n",
       " '51 AIKEN WAY',\n",
       " '51 ANJOU CIR',\n",
       " '51 CRYSTALWOOD CIR',\n",
       " '51 E ST',\n",
       " '51 OMAHA CT',\n",
       " '5102 ARCHCREST WAY',\n",
       " '5118 ROBANDER ST',\n",
       " '5136 CABOT CIR',\n",
       " '52 CRYSTALWOOD CIR',\n",
       " '5201 BLOSSOM RANCH DR',\n",
       " '5201 LAGUNA OAKS DR Unit 126',\n",
       " '5201 LAGUNA OAKS DR Unit 140',\n",
       " '5201 LAGUNA OAKS DR Unit 162',\n",
       " '5201 LAGUNA OAKS DR Unit 172',\n",
       " '5201 LAGUNA OAKS DR Unit 199',\n",
       " '5209 LAGUNA CREST WAY',\n",
       " '5217 ARGO WAY',\n",
       " '5221 38TH AVE',\n",
       " '5222 COPPER SUNSET WAY',\n",
       " '523 EXCHANGE ST',\n",
       " '5303 JERRETT WAY',\n",
       " '5307 CABRILLO WAY',\n",
       " '5308 MARBURY WAY',\n",
       " '5312 MARBURY WAY',\n",
       " '5321 DELTA DR',\n",
       " '5322 WHITE LOTUS WAY',\n",
       " '5332 SANDSTONE ST',\n",
       " '5333 PRIMROSE DR Unit 19A',\n",
       " '5337 DUSTY ROSE WAY',\n",
       " '5340 BIRK WAY',\n",
       " '5342 CALABRIA WAY',\n",
       " '5380 VILLAGE WOOD DR',\n",
       " '540 HARLING CT',\n",
       " '540 MORRISON AVE',\n",
       " '5404 ALMOND FALLS WAY',\n",
       " '5405 NECTAR CIR',\n",
       " '5411 10TH AVE',\n",
       " '5413 BUENA VENTURA WAY',\n",
       " '5419 HAVENHURST CIR',\n",
       " '5420 ALMOND FALLS WAY',\n",
       " '5429 HESPER WAY',\n",
       " '5448 MAIDSTONE WAY',\n",
       " '5479 NICKMAN WAY',\n",
       " '55 CRYSTALWOOD CIR',\n",
       " '550 DEL VERDE CIR',\n",
       " '5501 VALLETTA WAY',\n",
       " '5509 LAGUNA CREST WAY',\n",
       " '5529 LAGUNA PARK DR',\n",
       " '5531 JANSEN DR',\n",
       " '5532 ENGLE RD',\n",
       " '5544 CAMAS CT',\n",
       " '5559 NORTHBOROUGH DR',\n",
       " '556 PLATT CIR',\n",
       " '5579 JERRY LITELL WAY',\n",
       " '5601 REXLEIGH DR',\n",
       " '5601 SPINDRIFT LN',\n",
       " '5608 ROSEDALE WAY',\n",
       " '5615 LUPIN LN',\n",
       " '5624 MEMORY LN',\n",
       " '5625 JAMES WAY',\n",
       " '5628 GEORGIA DR',\n",
       " '5635 FOXVIEW WAY',\n",
       " '5635 LOS PUEBLOS WAY',\n",
       " '5636 25TH ST',\n",
       " '5651 OVERLEAF WAY',\n",
       " '5672 HILLSDALE BLVD',\n",
       " '5706 GREENACRES WAY',\n",
       " '5708 RIDGEPOINT DR',\n",
       " '5709 RIVER OAK WAY',\n",
       " '5712 MELBURY CIR',\n",
       " '5725 BALFOR RD',\n",
       " '5733 ANGELINA AVE',\n",
       " '5746 GELSTON WAY',\n",
       " '5747 KING RD',\n",
       " '5754 WALERGA RD Unit 4',\n",
       " '5776 TERRACE DR',\n",
       " '580 REGENCY PARK CIR',\n",
       " '5805 DOTMAR WAY',\n",
       " '5805 HIMALAYA WAY',\n",
       " '5821 64TH ST',\n",
       " '5828 PEPPERMILL CT',\n",
       " '5840 WALERGA RD',\n",
       " '5841 VALLEY VALE WAY',\n",
       " '5847 DEL CAMPO LN',\n",
       " '5890 TT TRAK',\n",
       " '59 E ST',\n",
       " '5907 ELLERSLEE DR',\n",
       " '5908 MCLEAN DR',\n",
       " '5912 DEEPDALE WAY',\n",
       " '5920 VALLEY GLEN WAY',\n",
       " '5924 TANUS CIR',\n",
       " '5925 MALEVILLE AVE',\n",
       " '5937 BAMFORD DR',\n",
       " '5937 YORK GLEN WAY',\n",
       " '5938 WOODBRIAR WAY',\n",
       " '5954 BRIDGECROSS DR',\n",
       " '5954 TANUS CIR',\n",
       " '5976 KYLENCH CT',\n",
       " '5980 79TH ST',\n",
       " '5993 SAWYER CIR',\n",
       " '6000 BIRCHGLADE WAY',\n",
       " '6001 MCMAHON DR',\n",
       " '6001 SHOO FLY RD',\n",
       " '6007 MARYBELLE LN',\n",
       " '601 REGGINALD WAY',\n",
       " '6013 ROWAN WAY',\n",
       " '6019 CHESHIRE WAY',\n",
       " '6030 PALERMO WAY',\n",
       " '604 MORRISON AVE',\n",
       " '604 P ST',\n",
       " '6045 EHRHARDT AVE',\n",
       " '6048 OGDEN NASH WAY',\n",
       " '6049 HAMBURG WAY',\n",
       " '6063 LAND PARK DR',\n",
       " '6080 BRIDGECROSS DR',\n",
       " '611 BLOSSOM ROCK LN',\n",
       " '6112 HERMOSA ST',\n",
       " '6118 STONEHAND AVE',\n",
       " '612 STONE BLVD',\n",
       " '6121 ALPINESPRING WAY',\n",
       " '6121 WILD FOX CT',\n",
       " '6128 CARL SANDBURG CIR',\n",
       " '6139 HERMOSA ST',\n",
       " '617 M ST',\n",
       " '617 WILLOW CREEK DR',\n",
       " '6196 EDGEHILL DR',\n",
       " '62 DE FER CIR',\n",
       " '620 KESWICK CT',\n",
       " '6208 GRATTAN WAY',\n",
       " '6217 LEOLA WAY',\n",
       " '6220 OPUS CT',\n",
       " '6221 GREEN TOP WAY',\n",
       " '6222 CALLE MONTALVO CIR',\n",
       " '6232 GUS WAY',\n",
       " '6236 LONGFORD DR Unit 1',\n",
       " '624 HOVEY WAY',\n",
       " '6272 LONGFORD DR Unit 1',\n",
       " '6286 LONETREE BLVD',\n",
       " '6288 LONETREE BLVD',\n",
       " '63 ANGEL ISLAND CIR',\n",
       " '63 CRYSTALWOOD CIR',\n",
       " '6306 CONEJO',\n",
       " '6313 CASTRO VERDE WAY',\n",
       " '6318 39TH AVE',\n",
       " '632 NEWBRIDGE LN',\n",
       " '6320 EL DORADO ST',\n",
       " '6326 APPIAN WAY',\n",
       " '633 HANISCH DR',\n",
       " '6344 BONHAM CIR',\n",
       " '6344 LAGUNA MIRAGE LN',\n",
       " '636 CRESTVIEW DR',\n",
       " '6401 MARSHALL RD',\n",
       " '6411 RED BIRCH WAY',\n",
       " '6417 SUNNYFIELD WAY',\n",
       " '645 MORRISON AVE',\n",
       " '648 SANTA ANA AVE',\n",
       " '6485 LAGUNA MIRAGE LN',\n",
       " '6503 RIO DE ONAR WAY',\n",
       " '6507 RIO DE ONAR WAY',\n",
       " '6513 HOLIDAY WAY',\n",
       " '6517 DONEGAL DR',\n",
       " '652 FIFTEEN MILE DR',\n",
       " '6548 GRAYLOCK LN',\n",
       " '6561 WEATHERFORD WAY',\n",
       " '6600 SILVERTHORNE CIR',\n",
       " '6601 WOODMORE OAKS DR',\n",
       " '6613 NAVION DR',\n",
       " '6622 WILLOWLEAF DR',\n",
       " '6631 DEMARET DR',\n",
       " '6632 IBEX WOODS CT',\n",
       " '6671 FOXWOOD CT',\n",
       " '6708 PONTA DO SOL WAY',\n",
       " '6709 ROSE BRIDGE DR',\n",
       " '671 SONOMA AVE',\n",
       " '6715 6TH ST',\n",
       " '6716 TAREYTON WAY',\n",
       " '6743 21ST ST',\n",
       " '6768 MEDORA DR',\n",
       " '68 CRYSTALWOOD CIR',\n",
       " '6801 RAWLEY WAY',\n",
       " '6813 SCOTER WAY',\n",
       " '6824 OLIVE TREE WAY',\n",
       " '6850 21ST ST',\n",
       " '6900 LONICERA DR',\n",
       " '6905 COBALT WAY',\n",
       " '6905 FRANKFORT CT',\n",
       " '6908 PIN OAK CT',\n",
       " '6913 RICHEVE WAY',\n",
       " '6920 GILLINGHAM WAY',\n",
       " '6930 HAMPTON COVE WAY',\n",
       " '6932 RUSKUT WAY',\n",
       " '6935 ELM TREE LN',\n",
       " '6943 WOLFGRAM WAY',\n",
       " '6945 RIO TEJO WAY',\n",
       " '6948 MIRADOR WAY',\n",
       " '7 ARCHIBALD CT',\n",
       " '7 CRYSTALWOOD CIR',\n",
       " '700 HUNTER PL',\n",
       " '7004 RAWLEY WAY',\n",
       " '7005 TIANT WAY',\n",
       " '701 JESSIE AVE',\n",
       " '7015 WOODSIDE DR',\n",
       " '7031 CANEVALLEY CIR',\n",
       " '7032 FAIR OAKS BLVD',\n",
       " '7043 9TH AVE',\n",
       " '7044 CARTHY WAY',\n",
       " '7045 PEEVEY CT',\n",
       " '709 CIMMARON CT',\n",
       " '7105 DANBERG WAY',\n",
       " '7108 HEATHER TREE DR',\n",
       " '7109 CHANDLER DR',\n",
       " '7110 STELLA LN Unit 15',\n",
       " '7129 SPRINGMONT DR',\n",
       " '7140 BLUE SPRINGS WAY',\n",
       " '719 BAYWOOD CT',\n",
       " '72 CRYSTALWOOD CIR',\n",
       " '7204 KERSTEN ST',\n",
       " '7204 THOMAS DR',\n",
       " '7213 CALVIN DR',\n",
       " '7223 KALLIE KAY LN',\n",
       " '7226 LARCHMONT DR',\n",
       " '7252 CARRIAGE DR',\n",
       " '7315 KOALA CT',\n",
       " '7320 6TH ST',\n",
       " '7325 10TH ST',\n",
       " '7328 SPRINGMAN ST',\n",
       " '7340 HAMDEN PL',\n",
       " '7342 DAVE ST',\n",
       " '7342 GIGI PL',\n",
       " '7344 BUTTERBALL WAY',\n",
       " '7349 FLETCHER FARM DR',\n",
       " '7351 GIGI PL',\n",
       " '7374 TISDALE WAY',\n",
       " '7381 WASHBURN WAY',\n",
       " '739 E WOODSIDE LN Unit E',\n",
       " '7401 TOULON LN',\n",
       " '7409 VOYAGER WAY',\n",
       " '7420 ALIX PKWY',\n",
       " '7423 WILSALL CT',\n",
       " '7458 WINKLEY WAY',\n",
       " '746 MOOSE CREEK WAY',\n",
       " '7461 WINDBRIDGE DR',\n",
       " '75 E ST',\n",
       " '7511 OAKVALE CT',\n",
       " '7517 50TH AVE',\n",
       " '7535 ALMA VISTA WAY',\n",
       " '7540 HICKORY AVE',\n",
       " '7541 SKELTON WAY',\n",
       " '7577 EDDYLEE WAY',\n",
       " '76 CRYSTALWOOD CIR',\n",
       " '7607 ELDER CREEK RD',\n",
       " '7620 DARLA WAY',\n",
       " '7624 BOGEY CT',\n",
       " '7629 BETH ST',\n",
       " '7641 ROSEHALL DR',\n",
       " '7661 NIXOS WAY',\n",
       " '7687 HOWERTON DR',\n",
       " '7697 ROSEHALL DR',\n",
       " '77 RINETTI WAY',\n",
       " '7709 RIVER VILLAGE DR',\n",
       " '7713 HARVEST WOODS DR',\n",
       " '7730 ROBINETTE RD',\n",
       " '7731 MASTERS ST',\n",
       " '7740 DIXIE LOU ST',\n",
       " '7741 MILLDALE CIR',\n",
       " '7744 SOUTHBREEZE DR',\n",
       " '7756 TIGERWOODS DR',\n",
       " '7800 TABARE CT',\n",
       " '7809 VALLECITOS WAY',\n",
       " '7812 HARTWICK WAY',\n",
       " '7825 CREEK VALLEY CIR',\n",
       " '7825 DALEWOODS WAY',\n",
       " '7836 ORCHARD WOODS CIR',\n",
       " '7837 ABBINGTON WAY',\n",
       " '7842 LAHONTAN CT',\n",
       " '7849 BONNY DOWNS WAY',\n",
       " '7863 CRESTLEIGH CT',\n",
       " '7876 BURLINGTON WAY',\n",
       " '7895 CABER WAY',\n",
       " '7901 GAZELLE TRAIL WAY',\n",
       " '7921 DOE TRAIL WAY',\n",
       " '7922 MANSELL WAY',\n",
       " '7928 36TH AVE',\n",
       " '7933 DAFFODIL WAY',\n",
       " '7944 DOMINION WAY',\n",
       " '7944 SYLVAN OAK WAY',\n",
       " '7957 VALLEY GREEN DR',\n",
       " '7958 ROSEVIEW WAY',\n",
       " '796 BUTTERCUP CIR',\n",
       " '8 LA ROCAS CT',\n",
       " '8 RIVER RAFT CT',\n",
       " '8 TIDE CT',\n",
       " '80 CRYSTALWOOD CIR',\n",
       " '8001 ARROYO VISTA DR',\n",
       " '8001 HARTWICK WAY',\n",
       " '8008 SAINT HELENA CT',\n",
       " '8020 WALERGA RD',\n",
       " '8025 ARROYO VISTA DR',\n",
       " '8025 PEERLESS AVE',\n",
       " '8032 DUSENBERG CT',\n",
       " '8082 LINDA ISLE LN',\n",
       " '8101 LEMON COVE CT',\n",
       " '8101 PORT ROYALE WAY',\n",
       " '8108 FILIFERA WAY',\n",
       " '8116 COTTONMILL CIR',\n",
       " '815 CROSSWIND DR',\n",
       " '8151 QUAIL RIDGE CT',\n",
       " '8156 STEINBECK WAY',\n",
       " '8164 CHENIN BLANC LN',\n",
       " '8165 AYN RAND CT',\n",
       " '8167 DERBY PARK CT',\n",
       " '8198 STEVENSON AVE',\n",
       " '82 WILDFLOWER DR',\n",
       " '820 DANA CT',\n",
       " '8200 STEINBECK WAY',\n",
       " '8205 WEYBURN CT',\n",
       " '8207 YORKTON WAY',\n",
       " '8208 WOODYARD WAY',\n",
       " '8209 RIVALLO WAY',\n",
       " '8215 PEREGRINE WAY',\n",
       " '8217 PLUMERIA AVE',\n",
       " '8219 GWINHURST CIR',\n",
       " '8225 SCOTTSDALE DR',\n",
       " '8244 SUNBIRD WAY',\n",
       " '8248 CENTER PKWY',\n",
       " '8253 KEEGAN WAY',\n",
       " '8284 RED FOX WAY',\n",
       " '8299 HALBRITE WAY',\n",
       " '83 ARCADE BLVD',\n",
       " '8300 LICHEN DR',\n",
       " '8304 JUGLANS DR',\n",
       " '8304 RED FOX WAY',\n",
       " '8306 CURLEW CT',\n",
       " '8316 NORTHAM DR',\n",
       " '8317 SUNNY CREEK WAY',\n",
       " '8321 MISTLETOE WAY',\n",
       " '8323 REDBANK WAY',\n",
       " '8344 FIELDPOPPY CIR',\n",
       " '8345 STAR THISTLE WAY',\n",
       " '8354 SUNRISE WOODS WAY',\n",
       " '8363 LANGTREE WAY',\n",
       " '8369 FOPPIANO WAY',\n",
       " '8373 BLACKMAN WAY',\n",
       " '84 CRYSTALWOOD CIR',\n",
       " '840 TRANQUIL LN',\n",
       " '8421 SUNBLAZE WAY',\n",
       " '8424 MERRY HILL WAY',\n",
       " '8428 MISTY PASS WAY',\n",
       " '8432 BRIGGS DR',\n",
       " '8442 KEUSMAN ST',\n",
       " '8445 OLD AUBURN RD',\n",
       " '8463 TERRACOTTA CT',\n",
       " '8491 CRYSTAL WALK CIR',\n",
       " '8495 DARTFORD DR',\n",
       " '8515 DARTFORD DR',\n",
       " '8531 HERMITAGE WAY',\n",
       " '8570 SHERATON DR',\n",
       " '8593 DERLIN WAY',\n",
       " '8612 WILLOW GROVE WAY',\n",
       " '8616 ROCKPORTE CT',\n",
       " '8629 VIA ALTA WAY',\n",
       " '8632 PRAIRIEWOODS DR',\n",
       " '8636 LONGSPUR WAY',\n",
       " '8636 TEGEA WAY',\n",
       " '8637 PERIWINKLE CIR',\n",
       " '865 CONRAD CT',\n",
       " '8652 BANTON CIR',\n",
       " '8664 MAGNOLIA HILL WAY',\n",
       " '8671 SUMMER SUN WAY',\n",
       " '868 HILDEBRAND CIR',\n",
       " '87 LACAM CIR',\n",
       " '8708 MESA BROOK WAY',\n",
       " '8716 LONGSPUR WAY',\n",
       " '8718 ELK WAY',\n",
       " '8721 SPRUCE RIDGE WAY',\n",
       " '8728 CRYSTAL RIVER WAY',\n",
       " '8758 LEMAS RD',\n",
       " '8788 LA MARGARITA WAY',\n",
       " '8789 SEQUOIA WOOD CT',\n",
       " '88 CRYSTALWOOD CIR',\n",
       " '8806 PHOENIX AVE',\n",
       " '8817 SAWTELLE WAY',\n",
       " '8830 ADUR RD',\n",
       " '8864 REMBRANT CT',\n",
       " '8879 APPLE PEAR CT',\n",
       " '8882 AUTUMN GOLD CT',\n",
       " '8884 AMBERJACK WAY',\n",
       " '8907 GEMWOOD WAY',\n",
       " '8909 BILLFISH WAY',\n",
       " '8916 GABLES MILL PL',\n",
       " '8920 ROSETTA CIR',\n",
       " '8929 SUTTERS GOLD DR',\n",
       " '8935 MOUNTAIN HOME CT',\n",
       " '8952 ROCKY CREEK CT',\n",
       " '8986 HAFLINGER WAY',\n",
       " '9 PASTURE CT',\n",
       " '9 WIND CT',\n",
       " '9012 KIEFER BLVD',\n",
       " '9013 CASALS ST',\n",
       " '9020 LUKEN CT',\n",
       " '9021 MADISON AVE',\n",
       " '9048 PINTO CANYON WAY',\n",
       " '9054 DESCENDANT DR',\n",
       " '9058 MONTOYA ST',\n",
       " '907 RIO ROBLES AVE',\n",
       " '9080 BEDROCK CT',\n",
       " '9080 FRESCA WAY',\n",
       " '909 SINGINGWOOD RD',\n",
       " '9127 NEWHALL DR Unit 34',\n",
       " '913 COBDEN CT',\n",
       " '9169 GARLINGTON CT',\n",
       " '9176 SAGE GLEN WAY',\n",
       " '9182 LAKEMONT DR',\n",
       " '9185 CERROLINDA CIR',\n",
       " '9186 KINBRACE CT',\n",
       " '9197 CORTINA CIR',\n",
       " '92 CRYSTALWOOD CIR',\n",
       " '9204 TROUT WAY',\n",
       " '923 FULTON AVE',\n",
       " '9247 DELAIR WAY',\n",
       " '925 COBDEN CT',\n",
       " '9254 HARROGATE WAY',\n",
       " '9257 CALDERA WAY',\n",
       " '9264 BOULDER RIVER WAY',\n",
       " '9273 PREMIER WAY',\n",
       " '9278 DAIRY CT',\n",
       " '9297 TROUT WAY',\n",
       " '9346 AIZENBERG CIR',\n",
       " '9355 MATADOR WAY',\n",
       " '9360 MAGOS RD',\n",
       " '9361 WADDELL LN',\n",
       " '9387 GRANITE FALLS CT',\n",
       " '9401 BARREL RACER CT',\n",
       " '9417 SARA ST',\n",
       " '9452 RED SPRUCE WAY',\n",
       " '9455 SEA CLIFF WAY',\n",
       " '9474 VILLAGE TREE DR',\n",
       " '9488 OAK VILLAGE WAY',\n",
       " '9507 SEA CLIFF WAY',\n",
       " '9512 EMERALD PARK DR Unit 3',\n",
       " '9516 LAGUNA LAKE WAY',\n",
       " '955 BIG SUR CT',\n",
       " '9552 SUNLIGHT LN',\n",
       " '9570 HARVEST ROSE WAY',\n",
       " '96 CRYSTALWOOD CIR',\n",
       " '9605 GOLF COURSE LN',\n",
       " '9629 CEDAR OAK WAY',\n",
       " '9677 PILLITERI CT',\n",
       " '9688 NATURE TRAIL WAY',\n",
       " '97 KENNELFORD CIR',\n",
       " '9720 LITTLE HARBOR WAY',\n",
       " '9723 TERRAPIN CT',\n",
       " '9741 SADDLEBRED CT',\n",
       " '9760 LAZULITE CT',\n",
       " '9815 PASO FINO WAY',\n",
       " '9837 CORTE DORADO CT',\n",
       " '9861 CULP WAY',\n",
       " '9880 IZILDA CT',\n",
       " '993 MANTON CT',\n",
       " '9937 BURLINE ST',\n",
       " '9949 NESTLING CIR',\n",
       " '9967 HATHERTON WAY',\n",
       " '9970 STATE HIGHWAY 193'}"
      ]
     },
     "execution_count": 13,
     "metadata": {},
     "output_type": "execute_result"
    }
   ],
   "source": [
    "streets = set(d['street'] for d in mpg)\n",
    "streets"
   ]
  },
  {
   "cell_type": "markdown",
   "metadata": {},
   "source": [
    "CtyMpgByCyl = []\n",
    "\n",
    "for c in streets: # iterate over all the cylinder levels\n",
    "    summpg = 0\n",
    "    cyltypecount = 0\n",
    "    for d in mpg: # iterate over all dictionaries\n",
    "        if d['street'] == c: # if the cylinder level type matches,\n",
    "            summpg += string(d['city']) # add the cty mpg\n",
    "            cyltypecount += 1 # increment the count\n",
    "    CtyMpgByCyl.append((c, summpg / cyltypecount)) # append the tuple ('cylinder', 'avg mpg')\n",
    "\n",
    "CtyMpgByCyl.sort(key=lambda x: x[0])\n",
    "CtyMpgByCyl"
   ]
  },
  {
   "cell_type": "markdown",
   "metadata": {},
   "source": [
    "# import date and time\n"
   ]
  },
  {
   "cell_type": "code",
   "execution_count": 17,
   "metadata": {},
   "outputs": [],
   "source": [
    "import datetime as dt\n",
    "import time as tm"
   ]
  },
  {
   "cell_type": "code",
   "execution_count": 18,
   "metadata": {},
   "outputs": [
    {
     "data": {
      "text/plain": [
       "1590652143.72"
      ]
     },
     "execution_count": 18,
     "metadata": {},
     "output_type": "execute_result"
    }
   ],
   "source": [
    "tm.time()"
   ]
  },
  {
   "cell_type": "code",
   "execution_count": 21,
   "metadata": {},
   "outputs": [],
   "source": [
    "dtnow = dt.datetime.fromtimestamp(tm.time())"
   ]
  },
  {
   "cell_type": "code",
   "execution_count": 22,
   "metadata": {},
   "outputs": [
    {
     "data": {
      "text/plain": [
       "datetime.datetime(2020, 5, 28, 13, 20, 42, 953393)"
      ]
     },
     "execution_count": 22,
     "metadata": {},
     "output_type": "execute_result"
    }
   ],
   "source": [
    "dtnow"
   ]
  },
  {
   "cell_type": "code",
   "execution_count": 23,
   "metadata": {},
   "outputs": [
    {
     "data": {
      "text/plain": [
       "2020"
      ]
     },
     "execution_count": 23,
     "metadata": {},
     "output_type": "execute_result"
    }
   ],
   "source": [
    "dtnow.year"
   ]
  },
  {
   "cell_type": "code",
   "execution_count": 24,
   "metadata": {},
   "outputs": [
    {
     "data": {
      "text/plain": [
       "5"
      ]
     },
     "execution_count": 24,
     "metadata": {},
     "output_type": "execute_result"
    }
   ],
   "source": [
    "dtnow.month"
   ]
  },
  {
   "cell_type": "code",
   "execution_count": 25,
   "metadata": {},
   "outputs": [
    {
     "data": {
      "text/plain": [
       "<function datetime.date>"
      ]
     },
     "execution_count": 25,
     "metadata": {},
     "output_type": "execute_result"
    }
   ],
   "source": [
    "dtnow.date"
   ]
  },
  {
   "cell_type": "code",
   "execution_count": 26,
   "metadata": {},
   "outputs": [
    {
     "ename": "AttributeError",
     "evalue": "'datetime.datetime' object has no attribute 'datetime'",
     "output_type": "error",
     "traceback": [
      "\u001b[0;31m---------------------------------------------------------------------------\u001b[0m",
      "\u001b[0;31mAttributeError\u001b[0m                            Traceback (most recent call last)",
      "\u001b[0;32m<ipython-input-26-a677a3b473b1>\u001b[0m in \u001b[0;36m<module>\u001b[0;34m\u001b[0m\n\u001b[0;32m----> 1\u001b[0;31m \u001b[0mdtnow\u001b[0m\u001b[0;34m.\u001b[0m\u001b[0mdatetime\u001b[0m\u001b[0;34m\u001b[0m\u001b[0;34m\u001b[0m\u001b[0m\n\u001b[0m",
      "\u001b[0;31mAttributeError\u001b[0m: 'datetime.datetime' object has no attribute 'datetime'"
     ]
    }
   ],
   "source": [
    "dtnow.datetime"
   ]
  },
  {
   "cell_type": "code",
   "execution_count": 27,
   "metadata": {},
   "outputs": [
    {
     "data": {
      "text/plain": [
       "28"
      ]
     },
     "execution_count": 27,
     "metadata": {},
     "output_type": "execute_result"
    }
   ],
   "source": [
    "dtnow.day\n"
   ]
  },
  {
   "cell_type": "code",
   "execution_count": 28,
   "metadata": {},
   "outputs": [
    {
     "data": {
      "text/plain": [
       "(13, 20, 42)"
      ]
     },
     "execution_count": 28,
     "metadata": {},
     "output_type": "execute_result"
    }
   ],
   "source": [
    "dtnow.hour,dtnow.minute,dtnow.second"
   ]
  },
  {
   "cell_type": "code",
   "execution_count": 29,
   "metadata": {},
   "outputs": [],
   "source": [
    "delta = dt.timedelta(100)"
   ]
  },
  {
   "cell_type": "code",
   "execution_count": 30,
   "metadata": {},
   "outputs": [
    {
     "data": {
      "text/plain": [
       "datetime.timedelta(100)"
      ]
     },
     "execution_count": 30,
     "metadata": {},
     "output_type": "execute_result"
    }
   ],
   "source": [
    "delta"
   ]
  },
  {
   "cell_type": "code",
   "execution_count": 31,
   "metadata": {},
   "outputs": [],
   "source": [
    "today =  dt.date.today()"
   ]
  },
  {
   "cell_type": "code",
   "execution_count": 32,
   "metadata": {},
   "outputs": [
    {
     "data": {
      "text/plain": [
       "datetime.date(2020, 2, 18)"
      ]
     },
     "execution_count": 32,
     "metadata": {},
     "output_type": "execute_result"
    }
   ],
   "source": [
    "today-delta"
   ]
  },
  {
   "cell_type": "code",
   "execution_count": 33,
   "metadata": {},
   "outputs": [
    {
     "data": {
      "text/plain": [
       "True"
      ]
     },
     "execution_count": 33,
     "metadata": {},
     "output_type": "execute_result"
    }
   ],
   "source": [
    "today > today-delta"
   ]
  },
  {
   "cell_type": "code",
   "execution_count": 3,
   "metadata": {},
   "outputs": [],
   "source": [
    "def even_or_odd(num):\n",
    "    if num%2==0:\n",
    "        return \"The number {} is even\".format(num)\n",
    "    else:\n",
    "        return \"The number {} is odd\".format(num)"
   ]
  },
  {
   "cell_type": "code",
   "execution_count": 5,
   "metadata": {},
   "outputs": [
    {
     "data": {
      "text/plain": [
       "'The number 24 is even'"
      ]
     },
     "execution_count": 5,
     "metadata": {},
     "output_type": "execute_result"
    }
   ],
   "source": [
    "even_or_odd(24)"
   ]
  },
  {
   "cell_type": "code",
   "execution_count": 8,
   "metadata": {},
   "outputs": [],
   "source": [
    "lst=[1,2,3,4,5,6,7,8,9]"
   ]
  },
  {
   "cell_type": "code",
   "execution_count": 9,
   "metadata": {},
   "outputs": [
    {
     "data": {
      "text/plain": [
       "['The number 1 is odd',\n",
       " 'The number 2 is even',\n",
       " 'The number 3 is odd',\n",
       " 'The number 4 is even',\n",
       " 'The number 5 is odd',\n",
       " 'The number 6 is even',\n",
       " 'The number 7 is odd',\n",
       " 'The number 8 is even',\n",
       " 'The number 9 is odd']"
      ]
     },
     "execution_count": 9,
     "metadata": {},
     "output_type": "execute_result"
    }
   ],
   "source": [
    "list(map(even_or_odd,lst))"
   ]
  },
  {
   "cell_type": "code",
   "execution_count": 10,
   "metadata": {},
   "outputs": [],
   "source": [
    "class computer:\n",
    "    def config(self):\n",
    "        print(\"i5,16gb,1tb\")\n",
    "        \n",
    "        \n",
    "comp1 = computer()\n"
   ]
  },
  {
   "cell_type": "code",
   "execution_count": 11,
   "metadata": {},
   "outputs": [
    {
     "name": "stdout",
     "output_type": "stream",
     "text": [
      "i5,16gb,1tb\n"
     ]
    }
   ],
   "source": [
    "computer.config(comp1)"
   ]
  },
  {
   "cell_type": "code",
   "execution_count": 14,
   "metadata": {},
   "outputs": [
    {
     "data": {
      "text/plain": [
       "[0,\n",
       " 0,\n",
       " 0,\n",
       " 0,\n",
       " 0,\n",
       " 0,\n",
       " 0,\n",
       " 0,\n",
       " 0,\n",
       " 0,\n",
       " 0,\n",
       " 1,\n",
       " 2,\n",
       " 3,\n",
       " 4,\n",
       " 5,\n",
       " 6,\n",
       " 7,\n",
       " 8,\n",
       " 9,\n",
       " 0,\n",
       " 2,\n",
       " 4,\n",
       " 6,\n",
       " 8,\n",
       " 10,\n",
       " 12,\n",
       " 14,\n",
       " 16,\n",
       " 18,\n",
       " 0,\n",
       " 3,\n",
       " 6,\n",
       " 9,\n",
       " 12,\n",
       " 15,\n",
       " 18,\n",
       " 21,\n",
       " 24,\n",
       " 27,\n",
       " 0,\n",
       " 4,\n",
       " 8,\n",
       " 12,\n",
       " 16,\n",
       " 20,\n",
       " 24,\n",
       " 28,\n",
       " 32,\n",
       " 36,\n",
       " 0,\n",
       " 5,\n",
       " 10,\n",
       " 15,\n",
       " 20,\n",
       " 25,\n",
       " 30,\n",
       " 35,\n",
       " 40,\n",
       " 45,\n",
       " 0,\n",
       " 6,\n",
       " 12,\n",
       " 18,\n",
       " 24,\n",
       " 30,\n",
       " 36,\n",
       " 42,\n",
       " 48,\n",
       " 54,\n",
       " 0,\n",
       " 7,\n",
       " 14,\n",
       " 21,\n",
       " 28,\n",
       " 35,\n",
       " 42,\n",
       " 49,\n",
       " 56,\n",
       " 63,\n",
       " 0,\n",
       " 8,\n",
       " 16,\n",
       " 24,\n",
       " 32,\n",
       " 40,\n",
       " 48,\n",
       " 56,\n",
       " 64,\n",
       " 72,\n",
       " 0,\n",
       " 9,\n",
       " 18,\n",
       " 27,\n",
       " 36,\n",
       " 45,\n",
       " 54,\n",
       " 63,\n",
       " 72,\n",
       " 81]"
      ]
     },
     "execution_count": 14,
     "metadata": {},
     "output_type": "execute_result"
    }
   ],
   "source": [
    "def times_tables():\n",
    "    lst = []\n",
    "    for i in range(10):\n",
    "        for j in range (10):\n",
    "            lst.append(i*j)\n",
    "    return lst\n",
    "\n",
    "times_tables = [i*j for i in range(10) for j in range(10)]\n",
    "times_tables"
   ]
  },
  {
   "cell_type": "code",
   "execution_count": 16,
   "metadata": {},
   "outputs": [
    {
     "data": {
      "text/plain": [
       "['aa00',\n",
       " 'aa01',\n",
       " 'aa02',\n",
       " 'aa03',\n",
       " 'aa04',\n",
       " 'aa05',\n",
       " 'aa06',\n",
       " 'aa07',\n",
       " 'aa08',\n",
       " 'aa09',\n",
       " 'aa10',\n",
       " 'aa11',\n",
       " 'aa12',\n",
       " 'aa13',\n",
       " 'aa14',\n",
       " 'aa15',\n",
       " 'aa16',\n",
       " 'aa17',\n",
       " 'aa18',\n",
       " 'aa19',\n",
       " 'aa20',\n",
       " 'aa21',\n",
       " 'aa22',\n",
       " 'aa23',\n",
       " 'aa24',\n",
       " 'aa25',\n",
       " 'aa26',\n",
       " 'aa27',\n",
       " 'aa28',\n",
       " 'aa29',\n",
       " 'aa30',\n",
       " 'aa31',\n",
       " 'aa32',\n",
       " 'aa33',\n",
       " 'aa34',\n",
       " 'aa35',\n",
       " 'aa36',\n",
       " 'aa37',\n",
       " 'aa38',\n",
       " 'aa39',\n",
       " 'aa40',\n",
       " 'aa41',\n",
       " 'aa42',\n",
       " 'aa43',\n",
       " 'aa44',\n",
       " 'aa45',\n",
       " 'aa46',\n",
       " 'aa47',\n",
       " 'aa48',\n",
       " 'aa49']"
      ]
     },
     "execution_count": 16,
     "metadata": {},
     "output_type": "execute_result"
    }
   ],
   "source": [
    "lowercase = 'abcdefghijklmnopqrstuvwxyz'\n",
    "digits = '0123456789'\n",
    "\n",
    "answer = [a+b+c+d for a in lowercase for b in lowercase for c in digits for d in digits]\n",
    "answer[:50]"
   ]
  },
  {
   "cell_type": "markdown",
   "metadata": {},
   "source": [
    "# Numpy\n"
   ]
  },
  {
   "cell_type": "code",
   "execution_count": 17,
   "metadata": {},
   "outputs": [],
   "source": [
    "import numpy as np"
   ]
  },
  {
   "cell_type": "markdown",
   "metadata": {},
   "source": [
    "# Creating numpy as arrays"
   ]
  },
  {
   "cell_type": "code",
   "execution_count": 18,
   "metadata": {},
   "outputs": [
    {
     "data": {
      "text/plain": [
       "array([1, 2, 3])"
      ]
     },
     "execution_count": 18,
     "metadata": {},
     "output_type": "execute_result"
    }
   ],
   "source": [
    "mylist = [1,2,3]\n",
    "x = np.array(mylist)\n",
    "x"
   ]
  },
  {
   "cell_type": "code",
   "execution_count": 19,
   "metadata": {},
   "outputs": [
    {
     "data": {
      "text/plain": [
       "array([4, 5, 6])"
      ]
     },
     "execution_count": 19,
     "metadata": {},
     "output_type": "execute_result"
    }
   ],
   "source": [
    "y = np.array([4,5,6])\n",
    "y"
   ]
  },
  {
   "cell_type": "code",
   "execution_count": 21,
   "metadata": {},
   "outputs": [
    {
     "data": {
      "text/plain": [
       "array([[1, 2, 3],\n",
       "       [4, 5, 6]])"
      ]
     },
     "execution_count": 21,
     "metadata": {},
     "output_type": "execute_result"
    }
   ],
   "source": [
    "z = np.array([[1,2,3],[4,5,6]])\n",
    "z"
   ]
  },
  {
   "cell_type": "code",
   "execution_count": 22,
   "metadata": {},
   "outputs": [
    {
     "ename": "TypeError",
     "evalue": "'tuple' object is not callable",
     "output_type": "error",
     "traceback": [
      "\u001b[0;31m---------------------------------------------------------------------------\u001b[0m",
      "\u001b[0;31mTypeError\u001b[0m                                 Traceback (most recent call last)",
      "\u001b[0;32m<ipython-input-22-26a7f04225ae>\u001b[0m in \u001b[0;36m<module>\u001b[0;34m\u001b[0m\n\u001b[0;32m----> 1\u001b[0;31m \u001b[0mz\u001b[0m\u001b[0;34m.\u001b[0m\u001b[0mshape\u001b[0m\u001b[0;34m(\u001b[0m\u001b[0;34m)\u001b[0m\u001b[0;34m\u001b[0m\u001b[0;34m\u001b[0m\u001b[0m\n\u001b[0m",
      "\u001b[0;31mTypeError\u001b[0m: 'tuple' object is not callable"
     ]
    }
   ],
   "source": [
    "z.shape()"
   ]
  },
  {
   "cell_type": "code",
   "execution_count": 23,
   "metadata": {},
   "outputs": [
    {
     "data": {
      "text/plain": [
       "(2, 3)"
      ]
     },
     "execution_count": 23,
     "metadata": {},
     "output_type": "execute_result"
    }
   ],
   "source": [
    "z.shape\n"
   ]
  },
  {
   "cell_type": "code",
   "execution_count": 26,
   "metadata": {},
   "outputs": [
    {
     "data": {
      "text/plain": [
       "array([ 0,  2,  4,  6,  8, 10, 12, 14])"
      ]
     },
     "execution_count": 26,
     "metadata": {},
     "output_type": "execute_result"
    }
   ],
   "source": [
    "n = np.arange(0,16,2)\n",
    "n"
   ]
  },
  {
   "cell_type": "code",
   "execution_count": 31,
   "metadata": {},
   "outputs": [
    {
     "data": {
      "text/plain": [
       "array([[ 0,  2],\n",
       "       [ 4,  6],\n",
       "       [ 8, 10],\n",
       "       [12, 14]])"
      ]
     },
     "execution_count": 31,
     "metadata": {},
     "output_type": "execute_result"
    }
   ],
   "source": [
    "n = n.reshape(4,2)\n",
    "n"
   ]
  },
  {
   "cell_type": "code",
   "execution_count": 33,
   "metadata": {},
   "outputs": [
    {
     "data": {
      "text/plain": [
       "array([0.        , 0.55555556, 1.11111111, 1.66666667, 2.22222222,\n",
       "       2.77777778, 3.33333333, 3.88888889, 4.44444444, 5.        ])"
      ]
     },
     "execution_count": 33,
     "metadata": {},
     "output_type": "execute_result"
    }
   ],
   "source": [
    "o = np.linspace(0,5,10)\n",
    "o"
   ]
  },
  {
   "cell_type": "code",
   "execution_count": 34,
   "metadata": {},
   "outputs": [
    {
     "data": {
      "text/plain": [
       "array([[0.        , 0.55555556],\n",
       "       [1.11111111, 1.66666667],\n",
       "       [2.22222222, 2.77777778],\n",
       "       [3.33333333, 3.88888889],\n",
       "       [4.44444444, 5.        ]])"
      ]
     },
     "execution_count": 34,
     "metadata": {},
     "output_type": "execute_result"
    }
   ],
   "source": [
    "o.resize(5,2)\n",
    "o"
   ]
  },
  {
   "cell_type": "code",
   "execution_count": 35,
   "metadata": {},
   "outputs": [
    {
     "data": {
      "text/plain": [
       "array([[1., 1.],\n",
       "       [1., 1.],\n",
       "       [1., 1.]])"
      ]
     },
     "execution_count": 35,
     "metadata": {},
     "output_type": "execute_result"
    }
   ],
   "source": [
    "np.ones((3,2))"
   ]
  },
  {
   "cell_type": "code",
   "execution_count": 37,
   "metadata": {},
   "outputs": [
    {
     "data": {
      "text/plain": [
       "array([[0., 0., 0.],\n",
       "       [0., 0., 0.],\n",
       "       [0., 0., 0.]])"
      ]
     },
     "execution_count": 37,
     "metadata": {},
     "output_type": "execute_result"
    }
   ],
   "source": [
    "np.zeros((3,3))"
   ]
  },
  {
   "cell_type": "code",
   "execution_count": 38,
   "metadata": {},
   "outputs": [
    {
     "data": {
      "text/plain": [
       "array([[1., 0., 0.],\n",
       "       [0., 1., 0.],\n",
       "       [0., 0., 1.]])"
      ]
     },
     "execution_count": 38,
     "metadata": {},
     "output_type": "execute_result"
    }
   ],
   "source": [
    "np.eye(3)"
   ]
  },
  {
   "cell_type": "code",
   "execution_count": 45,
   "metadata": {},
   "outputs": [
    {
     "data": {
      "text/plain": [
       "array([[1, 0, 0],\n",
       "       [0, 2, 0],\n",
       "       [0, 0, 3]])"
      ]
     },
     "execution_count": 45,
     "metadata": {},
     "output_type": "execute_result"
    }
   ],
   "source": [
    "\n",
    "np.diag(x)"
   ]
  },
  {
   "cell_type": "code",
   "execution_count": 46,
   "metadata": {},
   "outputs": [
    {
     "data": {
      "text/plain": [
       "array([1, 2, 3, 1, 2, 3, 1, 2, 3])"
      ]
     },
     "execution_count": 46,
     "metadata": {},
     "output_type": "execute_result"
    }
   ],
   "source": [
    "np.array([1,2,3]*3)"
   ]
  },
  {
   "cell_type": "code",
   "execution_count": 48,
   "metadata": {},
   "outputs": [
    {
     "data": {
      "text/plain": [
       "array([1, 1, 1, 2, 2, 2, 3, 3, 3])"
      ]
     },
     "execution_count": 48,
     "metadata": {},
     "output_type": "execute_result"
    }
   ],
   "source": [
    "np.repeat([1,2,3],3)"
   ]
  },
  {
   "cell_type": "code",
   "execution_count": 49,
   "metadata": {},
   "outputs": [
    {
     "data": {
      "text/plain": [
       "array([[1, 1],\n",
       "       [1, 1],\n",
       "       [1, 1]])"
      ]
     },
     "execution_count": 49,
     "metadata": {},
     "output_type": "execute_result"
    }
   ],
   "source": [
    "p = np.ones([3,2],int)\n",
    "p"
   ]
  },
  {
   "cell_type": "code",
   "execution_count": 51,
   "metadata": {},
   "outputs": [
    {
     "data": {
      "text/plain": [
       "array([[1, 1],\n",
       "       [1, 1],\n",
       "       [1, 1],\n",
       "       [2, 2],\n",
       "       [2, 2],\n",
       "       [2, 2]])"
      ]
     },
     "execution_count": 51,
     "metadata": {},
     "output_type": "execute_result"
    }
   ],
   "source": [
    "np.vstack([p,2*p])"
   ]
  },
  {
   "cell_type": "code",
   "execution_count": 52,
   "metadata": {},
   "outputs": [
    {
     "data": {
      "text/plain": [
       "array([[1, 1, 2, 2],\n",
       "       [1, 1, 2, 2],\n",
       "       [1, 1, 2, 2]])"
      ]
     },
     "execution_count": 52,
     "metadata": {},
     "output_type": "execute_result"
    }
   ],
   "source": [
    "np.hstack([p,2*p])"
   ]
  },
  {
   "cell_type": "markdown",
   "metadata": {},
   "source": [
    "\n",
    "# Operations"
   ]
  },
  {
   "cell_type": "code",
   "execution_count": 53,
   "metadata": {},
   "outputs": [
    {
     "data": {
      "text/plain": [
       "array([5, 7, 9])"
      ]
     },
     "execution_count": 53,
     "metadata": {},
     "output_type": "execute_result"
    }
   ],
   "source": [
    "x+y"
   ]
  },
  {
   "cell_type": "code",
   "execution_count": 54,
   "metadata": {},
   "outputs": [
    {
     "data": {
      "text/plain": [
       "array([ 4, 10, 18])"
      ]
     },
     "execution_count": 54,
     "metadata": {},
     "output_type": "execute_result"
    }
   ],
   "source": [
    "x * y"
   ]
  },
  {
   "cell_type": "code",
   "execution_count": 55,
   "metadata": {},
   "outputs": [
    {
     "data": {
      "text/plain": [
       "array([1, 4, 9])"
      ]
     },
     "execution_count": 55,
     "metadata": {},
     "output_type": "execute_result"
    }
   ],
   "source": [
    "x**2"
   ]
  },
  {
   "cell_type": "code",
   "execution_count": 56,
   "metadata": {},
   "outputs": [
    {
     "data": {
      "text/plain": [
       "32"
      ]
     },
     "execution_count": 56,
     "metadata": {},
     "output_type": "execute_result"
    }
   ],
   "source": [
    "x.dot(y)"
   ]
  },
  {
   "cell_type": "code",
   "execution_count": 57,
   "metadata": {},
   "outputs": [],
   "source": [
    "z =  np.array([y,y**2])"
   ]
  },
  {
   "cell_type": "code",
   "execution_count": 58,
   "metadata": {},
   "outputs": [
    {
     "data": {
      "text/plain": [
       "array([[ 4,  5,  6],\n",
       "       [16, 25, 36]])"
      ]
     },
     "execution_count": 58,
     "metadata": {},
     "output_type": "execute_result"
    }
   ],
   "source": [
    "z"
   ]
  },
  {
   "cell_type": "code",
   "execution_count": 59,
   "metadata": {},
   "outputs": [
    {
     "data": {
      "text/plain": [
       "array([[ 4, 16],\n",
       "       [ 5, 25],\n",
       "       [ 6, 36]])"
      ]
     },
     "execution_count": 59,
     "metadata": {},
     "output_type": "execute_result"
    }
   ],
   "source": [
    "z.T"
   ]
  },
  {
   "cell_type": "code",
   "execution_count": 60,
   "metadata": {},
   "outputs": [
    {
     "ename": "AttributeError",
     "evalue": "'numpy.ndarray' object has no attribute 't'",
     "output_type": "error",
     "traceback": [
      "\u001b[0;31m---------------------------------------------------------------------------\u001b[0m",
      "\u001b[0;31mAttributeError\u001b[0m                            Traceback (most recent call last)",
      "\u001b[0;32m<ipython-input-60-58906d8ef8ef>\u001b[0m in \u001b[0;36m<module>\u001b[0;34m\u001b[0m\n\u001b[0;32m----> 1\u001b[0;31m \u001b[0mz\u001b[0m\u001b[0;34m.\u001b[0m\u001b[0mt\u001b[0m\u001b[0;34m.\u001b[0m\u001b[0mshape\u001b[0m\u001b[0;34m\u001b[0m\u001b[0;34m\u001b[0m\u001b[0m\n\u001b[0m",
      "\u001b[0;31mAttributeError\u001b[0m: 'numpy.ndarray' object has no attribute 't'"
     ]
    }
   ],
   "source": [
    "z.t.shape"
   ]
  },
  {
   "cell_type": "code",
   "execution_count": 61,
   "metadata": {},
   "outputs": [
    {
     "data": {
      "text/plain": [
       "(3, 2)"
      ]
     },
     "execution_count": 61,
     "metadata": {},
     "output_type": "execute_result"
    }
   ],
   "source": [
    "z.T.shape"
   ]
  },
  {
   "cell_type": "code",
   "execution_count": 62,
   "metadata": {},
   "outputs": [],
   "source": [
    "a = np.array([1,2,3,-5,-6])"
   ]
  },
  {
   "cell_type": "code",
   "execution_count": 63,
   "metadata": {},
   "outputs": [
    {
     "data": {
      "text/plain": [
       "-5"
      ]
     },
     "execution_count": 63,
     "metadata": {},
     "output_type": "execute_result"
    }
   ],
   "source": [
    "a.sum()"
   ]
  },
  {
   "cell_type": "code",
   "execution_count": 64,
   "metadata": {},
   "outputs": [
    {
     "data": {
      "text/plain": [
       "3"
      ]
     },
     "execution_count": 64,
     "metadata": {},
     "output_type": "execute_result"
    }
   ],
   "source": [
    "a.max()"
   ]
  },
  {
   "cell_type": "code",
   "execution_count": 65,
   "metadata": {},
   "outputs": [
    {
     "data": {
      "text/plain": [
       "-6"
      ]
     },
     "execution_count": 65,
     "metadata": {},
     "output_type": "execute_result"
    }
   ],
   "source": [
    "a.min()"
   ]
  },
  {
   "cell_type": "code",
   "execution_count": 66,
   "metadata": {},
   "outputs": [
    {
     "data": {
      "text/plain": [
       "-1.0"
      ]
     },
     "execution_count": 66,
     "metadata": {},
     "output_type": "execute_result"
    }
   ],
   "source": [
    "a.mean()"
   ]
  },
  {
   "cell_type": "code",
   "execution_count": 67,
   "metadata": {},
   "outputs": [
    {
     "data": {
      "text/plain": [
       "3.7416573867739413"
      ]
     },
     "execution_count": 67,
     "metadata": {},
     "output_type": "execute_result"
    }
   ],
   "source": [
    "a.std()"
   ]
  },
  {
   "cell_type": "code",
   "execution_count": 68,
   "metadata": {},
   "outputs": [
    {
     "data": {
      "text/plain": [
       "2"
      ]
     },
     "execution_count": 68,
     "metadata": {},
     "output_type": "execute_result"
    }
   ],
   "source": [
    "a.argmax()"
   ]
  },
  {
   "cell_type": "code",
   "execution_count": 69,
   "metadata": {},
   "outputs": [
    {
     "data": {
      "text/plain": [
       "4"
      ]
     },
     "execution_count": 69,
     "metadata": {},
     "output_type": "execute_result"
    }
   ],
   "source": [
    "a.argmin()"
   ]
  },
  {
   "cell_type": "markdown",
   "metadata": {},
   "source": [
    "# Indexing and slicing"
   ]
  },
  {
   "cell_type": "code",
   "execution_count": 70,
   "metadata": {},
   "outputs": [
    {
     "data": {
      "text/plain": [
       "array([  0,   1,   4,   9,  16,  25,  36,  49,  64,  81, 100, 121, 144])"
      ]
     },
     "execution_count": 70,
     "metadata": {},
     "output_type": "execute_result"
    }
   ],
   "source": [
    "s = np.arange(13)**2\n",
    "s"
   ]
  },
  {
   "cell_type": "code",
   "execution_count": 71,
   "metadata": {},
   "outputs": [
    {
     "data": {
      "text/plain": [
       "(0, 16, array([1, 4, 9]))"
      ]
     },
     "execution_count": 71,
     "metadata": {},
     "output_type": "execute_result"
    }
   ],
   "source": [
    "s[0],s[4],s[1:4]"
   ]
  },
  {
   "cell_type": "code",
   "execution_count": 72,
   "metadata": {},
   "outputs": [
    {
     "data": {
      "text/plain": [
       "array([64, 36, 16,  4,  0])"
      ]
     },
     "execution_count": 72,
     "metadata": {},
     "output_type": "execute_result"
    }
   ],
   "source": [
    "s[-5::-2]"
   ]
  },
  {
   "cell_type": "code",
   "execution_count": 74,
   "metadata": {},
   "outputs": [
    {
     "data": {
      "text/plain": [
       "array([[ 0,  1,  2,  3,  4,  5],\n",
       "       [ 6,  7,  8,  9, 10, 11],\n",
       "       [12, 13, 14, 15, 16, 17],\n",
       "       [18, 19, 20, 21, 22, 23],\n",
       "       [24, 25, 26, 27, 28, 29],\n",
       "       [30, 31, 32, 33, 34, 35]])"
      ]
     },
     "execution_count": 74,
     "metadata": {},
     "output_type": "execute_result"
    }
   ],
   "source": [
    "r = np.arange(36)\n",
    "r.resize([6,6])\n",
    "r"
   ]
  },
  {
   "cell_type": "code",
   "execution_count": 75,
   "metadata": {},
   "outputs": [
    {
     "data": {
      "text/plain": [
       "14"
      ]
     },
     "execution_count": 75,
     "metadata": {},
     "output_type": "execute_result"
    }
   ],
   "source": [
    "r[2,2]"
   ]
  },
  {
   "cell_type": "code",
   "execution_count": 76,
   "metadata": {},
   "outputs": [
    {
     "data": {
      "text/plain": [
       "array([21, 22, 23])"
      ]
     },
     "execution_count": 76,
     "metadata": {},
     "output_type": "execute_result"
    }
   ],
   "source": [
    "r[3,3:6]"
   ]
  },
  {
   "cell_type": "code",
   "execution_count": 77,
   "metadata": {},
   "outputs": [
    {
     "data": {
      "text/plain": [
       "array([[ 0,  1,  2,  3,  4],\n",
       "       [ 6,  7,  8,  9, 10]])"
      ]
     },
     "execution_count": 77,
     "metadata": {},
     "output_type": "execute_result"
    }
   ],
   "source": [
    "r[:2,:-1]"
   ]
  },
  {
   "cell_type": "code",
   "execution_count": 80,
   "metadata": {},
   "outputs": [
    {
     "data": {
      "text/plain": [
       "array([30, 32, 34])"
      ]
     },
     "execution_count": 80,
     "metadata": {},
     "output_type": "execute_result"
    }
   ],
   "source": [
    "r[-1,::2]"
   ]
  },
  {
   "cell_type": "code",
   "execution_count": 81,
   "metadata": {},
   "outputs": [
    {
     "data": {
      "text/plain": [
       "array([31, 32, 33, 34, 35])"
      ]
     },
     "execution_count": 81,
     "metadata": {},
     "output_type": "execute_result"
    }
   ],
   "source": [
    "r[r>30]"
   ]
  },
  {
   "cell_type": "code",
   "execution_count": 82,
   "metadata": {},
   "outputs": [
    {
     "data": {
      "text/plain": [
       "array([[ 0,  1,  2,  3,  4,  5],\n",
       "       [ 6,  7,  8,  9, 10, 11],\n",
       "       [12, 13, 14, 15, 16, 17],\n",
       "       [18, 19, 20, 21, 22, 23],\n",
       "       [24, 25, 26, 27, 28, 29],\n",
       "       [30, 30, 30, 30, 30, 30]])"
      ]
     },
     "execution_count": 82,
     "metadata": {},
     "output_type": "execute_result"
    }
   ],
   "source": [
    "r[r>30]=30\n",
    "r"
   ]
  },
  {
   "cell_type": "code",
   "execution_count": 114,
   "metadata": {},
   "outputs": [
    {
     "data": {
      "text/plain": [
       "array([[ 0,  0,  0,  3,  4,  5],\n",
       "       [ 0,  0,  0,  9, 10, 11],\n",
       "       [ 0,  0,  0, 15, 16, 17],\n",
       "       [18, 19, 20, 21, 22, 23],\n",
       "       [24, 25, 26, 27, 28, 29],\n",
       "       [30, 30, 30, 30, 30, 30]])"
      ]
     },
     "execution_count": 114,
     "metadata": {},
     "output_type": "execute_result"
    }
   ],
   "source": [
    "r.reshape(36)[::7]\n",
    "r\n"
   ]
  },
  {
   "cell_type": "code",
   "execution_count": 85,
   "metadata": {},
   "outputs": [],
   "source": [
    "r2[:]=0"
   ]
  },
  {
   "cell_type": "code",
   "execution_count": 86,
   "metadata": {},
   "outputs": [
    {
     "data": {
      "text/plain": [
       "array([[0, 0, 0],\n",
       "       [0, 0, 0],\n",
       "       [0, 0, 0]])"
      ]
     },
     "execution_count": 86,
     "metadata": {},
     "output_type": "execute_result"
    }
   ],
   "source": [
    "r2"
   ]
  },
  {
   "cell_type": "code",
   "execution_count": 87,
   "metadata": {},
   "outputs": [
    {
     "data": {
      "text/plain": [
       "array([[ 0,  0,  0,  3,  4,  5],\n",
       "       [ 0,  0,  0,  9, 10, 11],\n",
       "       [ 0,  0,  0, 15, 16, 17],\n",
       "       [18, 19, 20, 21, 22, 23],\n",
       "       [24, 25, 26, 27, 28, 29],\n",
       "       [30, 30, 30, 30, 30, 30]])"
      ]
     },
     "execution_count": 87,
     "metadata": {},
     "output_type": "execute_result"
    }
   ],
   "source": [
    "r"
   ]
  },
  {
   "cell_type": "code",
   "execution_count": 92,
   "metadata": {},
   "outputs": [
    {
     "name": "stdout",
     "output_type": "stream",
     "text": [
      "[[ 0  0  0  3  4  5]\n",
      " [ 0  0  0  9 10 11]\n",
      " [ 0  0  0 15 16 17]\n",
      " [ 0 19 20 21 22 23]\n",
      " [ 0 25 26 27 28 29]\n",
      " [ 0 30 30 30 30 30]]\n",
      "[[ 0  0  0  3  4  5]\n",
      " [ 0  0  0  9 10 11]\n",
      " [ 0  0  0 15 16 17]\n",
      " [18 19 20 21 22 23]\n",
      " [24 25 26 27 28 29]\n",
      " [30 30 30 30 30 30]]\n"
     ]
    }
   ],
   "source": [
    "r_copy = r.copy()\n",
    "r_copy[:,0]=0\n",
    "print(r_copy)\n",
    "print(r)"
   ]
  },
  {
   "cell_type": "markdown",
   "metadata": {},
   "source": [
    "# Iterating over arrays"
   ]
  },
  {
   "cell_type": "code",
   "execution_count": 94,
   "metadata": {},
   "outputs": [
    {
     "data": {
      "text/plain": [
       "array([[8, 4, 0],\n",
       "       [1, 9, 5],\n",
       "       [5, 9, 1],\n",
       "       [8, 3, 7]])"
      ]
     },
     "execution_count": 94,
     "metadata": {},
     "output_type": "execute_result"
    }
   ],
   "source": [
    "test = np.random.randint(0,10,(4,3))\n",
    "test"
   ]
  },
  {
   "cell_type": "code",
   "execution_count": 97,
   "metadata": {},
   "outputs": [
    {
     "name": "stdout",
     "output_type": "stream",
     "text": [
      "[8 4 0]\n",
      "[1 9 5]\n",
      "[5 9 1]\n",
      "[8 3 7]\n"
     ]
    }
   ],
   "source": [
    "for i in range (len(test)):\n",
    "          print(test[i])"
   ]
  },
  {
   "cell_type": "code",
   "execution_count": 99,
   "metadata": {},
   "outputs": [
    {
     "name": "stdout",
     "output_type": "stream",
     "text": [
      "row 0 is [8 4 0]\n",
      "row 1 is [1 9 5]\n",
      "row 2 is [5 9 1]\n",
      "row 3 is [8 3 7]\n"
     ]
    }
   ],
   "source": [
    "for i,row  in enumerate (test):\n",
    "    print('row',i,'is',row)"
   ]
  },
  {
   "cell_type": "code",
   "execution_count": 100,
   "metadata": {},
   "outputs": [],
   "source": [
    "test2 = test**2"
   ]
  },
  {
   "cell_type": "code",
   "execution_count": 101,
   "metadata": {},
   "outputs": [
    {
     "data": {
      "text/plain": [
       "array([[64, 16,  0],\n",
       "       [ 1, 81, 25],\n",
       "       [25, 81,  1],\n",
       "       [64,  9, 49]])"
      ]
     },
     "execution_count": 101,
     "metadata": {},
     "output_type": "execute_result"
    }
   ],
   "source": [
    "test2"
   ]
  },
  {
   "cell_type": "code",
   "execution_count": 102,
   "metadata": {},
   "outputs": [
    {
     "name": "stdout",
     "output_type": "stream",
     "text": [
      "[8 4 0] + [64 16  0] = [72 20  0]\n",
      "[1 9 5] + [ 1 81 25] = [ 2 90 30]\n",
      "[5 9 1] + [25 81  1] = [30 90  2]\n",
      "[8 3 7] + [64  9 49] = [72 12 56]\n"
     ]
    }
   ],
   "source": [
    "for i,j in zip(test,test2):\n",
    "    print(i,'+',j,'=',i+j)\n",
    "     "
   ]
  },
  {
   "cell_type": "code",
   "execution_count": 103,
   "metadata": {},
   "outputs": [
    {
     "ename": "SyntaxError",
     "evalue": "invalid syntax (<ipython-input-103-1340b2977d75>, line 1)",
     "output_type": "error",
     "traceback": [
      "\u001b[0;36m  File \u001b[0;32m\"<ipython-input-103-1340b2977d75>\"\u001b[0;36m, line \u001b[0;32m1\u001b[0m\n\u001b[0;31m    type(lamda x:x+1)\u001b[0m\n\u001b[0m               ^\u001b[0m\n\u001b[0;31mSyntaxError\u001b[0m\u001b[0;31m:\u001b[0m invalid syntax\n"
     ]
    }
   ],
   "source": [
    "type(lamda x:x+1)"
   ]
  },
  {
   "cell_type": "code",
   "execution_count": 104,
   "metadata": {},
   "outputs": [
    {
     "ename": "SyntaxError",
     "evalue": "invalid syntax (<ipython-input-104-dda8fe96cd17>, line 2)",
     "output_type": "error",
     "traceback": [
      "\u001b[0;36m  File \u001b[0;32m\"<ipython-input-104-dda8fe96cd17>\"\u001b[0;36m, line \u001b[0;32m2\u001b[0m\n\u001b[0;31m    type(lamda x:x+1)\u001b[0m\n\u001b[0m               ^\u001b[0m\n\u001b[0;31mSyntaxError\u001b[0m\u001b[0;31m:\u001b[0m invalid syntax\n"
     ]
    }
   ],
   "source": [
    "x=[1,2,3]\n",
    "type(lamda x:x+1)"
   ]
  },
  {
   "cell_type": "code",
   "execution_count": 105,
   "metadata": {},
   "outputs": [
    {
     "ename": "NameError",
     "evalue": "name 'lamda' is not defined",
     "output_type": "error",
     "traceback": [
      "\u001b[0;31m---------------------------------------------------------------------------\u001b[0m",
      "\u001b[0;31mNameError\u001b[0m                                 Traceback (most recent call last)",
      "\u001b[0;32m<ipython-input-105-d23969ea967a>\u001b[0m in \u001b[0;36m<module>\u001b[0;34m\u001b[0m\n\u001b[0;32m----> 1\u001b[0;31m \u001b[0mtype\u001b[0m\u001b[0;34m(\u001b[0m\u001b[0mlamda\u001b[0m\u001b[0;34m)\u001b[0m\u001b[0;34m\u001b[0m\u001b[0;34m\u001b[0m\u001b[0m\n\u001b[0m",
      "\u001b[0;31mNameError\u001b[0m: name 'lamda' is not defined"
     ]
    }
   ],
   "source": [
    "type(lamda)"
   ]
  },
  {
   "cell_type": "code",
   "execution_count": 3,
   "metadata": {},
   "outputs": [
    {
     "data": {
      "text/plain": [
       "array([ 0,  1,  2,  3,  4,  5,  6,  7,  8,  9, 10, 11, 12, 13, 14, 15, 16,\n",
       "       17, 18, 19, 20, 21, 22, 23, 24, 25, 26, 27, 28, 29, 30, 31, 32, 33,\n",
       "       34, 35])"
      ]
     },
     "execution_count": 3,
     "metadata": {},
     "output_type": "execute_result"
    }
   ],
   "source": [
    "import numpy as np\n",
    "r= np.arange(36)\n",
    "r"
   ]
  },
  {
   "cell_type": "code",
   "execution_count": 4,
   "metadata": {},
   "outputs": [
    {
     "data": {
      "text/plain": [
       "array([[ 0,  1,  2,  3,  4,  5],\n",
       "       [ 6,  7,  8,  9, 10, 11],\n",
       "       [12, 13, 14, 15, 16, 17],\n",
       "       [18, 19, 20, 21, 22, 23],\n",
       "       [24, 25, 26, 27, 28, 29],\n",
       "       [30, 31, 32, 33, 34, 35]])"
      ]
     },
     "execution_count": 4,
     "metadata": {},
     "output_type": "execute_result"
    }
   ],
   "source": [
    "r = r.reshape(6,6)\n",
    "r"
   ]
  },
  {
   "cell_type": "code",
   "execution_count": 5,
   "metadata": {},
   "outputs": [
    {
     "data": {
      "text/plain": [
       "array([[14, 15],\n",
       "       [20, 21]])"
      ]
     },
     "execution_count": 5,
     "metadata": {},
     "output_type": "execute_result"
    }
   ],
   "source": [
    "r[2:4,2:4]\n"
   ]
  },
  {
   "cell_type": "raw",
   "metadata": {},
   "source": [
    "r["
   ]
  }
 ],
 "metadata": {
  "kernelspec": {
   "display_name": "Python 3",
   "language": "python",
   "name": "python3"
  },
  "language_info": {
   "codemirror_mode": {
    "name": "ipython",
    "version": 3
   },
   "file_extension": ".py",
   "mimetype": "text/x-python",
   "name": "python",
   "nbconvert_exporter": "python",
   "pygments_lexer": "ipython3",
   "version": "3.6.9"
  }
 },
 "nbformat": 4,
 "nbformat_minor": 4
}
